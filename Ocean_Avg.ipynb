{
 "cells": [
  {
   "cell_type": "code",
   "execution_count": 1,
   "metadata": {},
   "outputs": [],
   "source": [
    "import netCDF4 as nc\n",
    "import os\n",
    "import numpy as np\n",
    "import julian\n",
    "import numpy.ma as ma"
   ]
  },
  {
   "cell_type": "markdown",
   "metadata": {},
   "source": [
    "Todo list:\n",
    "- Get the ocean state as variables for Linear Regression\n",
    "- Try regularized model\n",
    "- Improve ONI to 3.4 region\n",
    "- Try neural net\n",
    "- Try RNN"
   ]
  },
  {
   "cell_type": "code",
   "execution_count": 2,
   "metadata": {},
   "outputs": [
    {
     "data": {
      "text/plain": [
       "'wdir_xyt_5day.cdf'"
      ]
     },
     "execution_count": 2,
     "metadata": {},
     "output_type": "execute_result"
    }
   ],
   "source": [
    "os.listdir('data')[0]"
   ]
  },
  {
   "cell_type": "code",
   "execution_count": 3,
   "metadata": {},
   "outputs": [
    {
     "name": "stdout",
     "output_type": "stream",
     "text": [
      "sst_anom\n",
      "['README_sst.txt', 'sst_anom_0n110w_5day.cdf', 'sst_anom_0n156e_5day.cdf', 'read_netcdf.f', 'sst_anom_0n165e_5day.cdf']\n",
      "17\n"
     ]
    }
   ],
   "source": [
    "import subprocess\n",
    "\n",
    "for subfolder in os.listdir('data'):\n",
    "    if subfolder.find(\".\")<0 :\n",
    "        contents = os.listdir(\"data/\" +subfolder)\n",
    "        print(subfolder)\n",
    "        print(contents[0:5])\n",
    "        print(len(contents))\n",
    "        if len(contents) <5:\n",
    "            #identify the file\n",
    "            target = 0\n",
    "            for i,x in enumerate(contents):\n",
    "                if x.find(\".tar\")>0:\n",
    "                    target=i\n",
    "            os.system(\"tar -xvf data/\"+subfolder+\"/'\"+contents[target]+\"' -C data/\"+subfolder)\n",
    "        contents = os.listdir(\"data/\" +subfolder)\n",
    "        if sum([i.find(\".cdf.gz\")>0 for i in contents])>0:\n",
    "            os.system(\"gunzip data/\"+subfolder+\"/*.gz\")"
   ]
  },
  {
   "cell_type": "code",
   "execution_count": 4,
   "metadata": {},
   "outputs": [],
   "source": [
    "path_to_anomaly = \"data/sst_anom\"\n",
    "path = path_to_anomaly\n",
    "anomaly_files = [path+\"/\" + file for file in os.listdir(path) if file.find(\".cdf\")>0]"
   ]
  },
  {
   "cell_type": "code",
   "execution_count": 5,
   "metadata": {},
   "outputs": [],
   "source": [
    "anomalies = [f for f in anomaly_files if f.find(\"anom_\")>0]\n",
    "from netCDF4 import MFDataset\n",
    "from netCDF4 import Dataset\n",
    "\n",
    "anomalies_ds = MFDataset(anomalies, aggdim = 'time')"
   ]
  },
  {
   "cell_type": "code",
   "execution_count": 6,
   "metadata": {},
   "outputs": [
    {
     "data": {
      "text/plain": [
       "(2444306, 2457730)"
      ]
     },
     "execution_count": 6,
     "metadata": {},
     "output_type": "execute_result"
    }
   ],
   "source": [
    "times_set = set(anomalies_ds['time'][:])\n",
    "times = anomalies_ds['time'][:]\n",
    "T_25 = anomalies_ds['T_25'][:]\n",
    "times[0], times[-1]"
   ]
  },
  {
   "cell_type": "code",
   "execution_count": 7,
   "metadata": {},
   "outputs": [],
   "source": [
    "all_times = np.array(sorted(times_set))\n",
    "dates = np.array([julian.from_jd(t, 'jd') for t in all_times])\n",
    "month_key = [(d.year, d.month) for d in dates]\n",
    "month_key_unique = sorted(set(month_key))"
   ]
  },
  {
   "cell_type": "code",
   "execution_count": 8,
   "metadata": {},
   "outputs": [
    {
     "name": "stderr",
     "output_type": "stream",
     "text": [
      "/home/solomon/anaconda3/envs/metis/lib/python3.8/site-packages/numpy/core/fromnumeric.py:3372: RuntimeWarning: Mean of empty slice.\n",
      "  return _methods._mean(a, axis=axis, dtype=dtype,\n",
      "/home/solomon/anaconda3/envs/metis/lib/python3.8/site-packages/numpy/core/_methods.py:170: RuntimeWarning: invalid value encountered in double_scalars\n",
      "  ret = ret.dtype.type(ret / rcount)\n"
     ]
    }
   ],
   "source": [
    "#Process:\n",
    "'''\n",
    "For each label in month_key_unique, get it and the previous two keys.\n",
    "'''\n",
    "running_averages = []\n",
    "for i in range(2, len(month_key_unique)):    \n",
    "    months = [month_key_unique[i-j] for j in range(3)]\n",
    "    mask = [m in months for m in month_key]\n",
    "    time_window = set(all_times[mask])\n",
    "    include = [t in time_window for t in times]\n",
    "    to_average = [T_25[i] for i in range(len(T_25)) if include[i] and T_25[i]<1e10]\n",
    "    running_averages.append(np.mean(to_average))\n",
    "running_averages = np.array(running_averages)"
   ]
  },
  {
   "cell_type": "code",
   "execution_count": 9,
   "metadata": {},
   "outputs": [
    {
     "name": "stdout",
     "output_type": "stream",
     "text": [
      "wdir_xyt_5day.cdf\n",
      "sss_xyt_5day.cdf\n",
      "cur_xyzt_5day.cdf\n",
      "sst_anom_xyt_5day.cdf\n",
      "vwnd_xyt_5day.cdf\n",
      "bp_xyt_5day.cdf\n",
      "wspd_xyt_5day.cdf\n",
      "sst_xyt_5day.cdf\n",
      "uwnd_xyt_5day.cdf\n"
     ]
    },
    {
     "data": {
      "text/plain": [
       "['data/wdir_xyt_5day.cdf',\n",
       " 'data/sss_xyt_5day.cdf',\n",
       " 'data/cur_xyzt_5day.cdf',\n",
       " 'data/sst_anom_xyt_5day.cdf',\n",
       " 'data/vwnd_xyt_5day.cdf',\n",
       " 'data/bp_xyt_5day.cdf',\n",
       " 'data/wspd_xyt_5day.cdf',\n",
       " 'data/sst_xyt_5day.cdf',\n",
       " 'data/uwnd_xyt_5day.cdf']"
      ]
     },
     "execution_count": 9,
     "metadata": {},
     "output_type": "execute_result"
    }
   ],
   "source": [
    "data_items = {}\n",
    "for subfolder in os.listdir('data'):\n",
    "    if subfolder.find(\".cdf\")>0:\n",
    "        if subfolder.find(\"anom\")<10000:\n",
    "            print(subfolder)\n",
    "            path = \"data/\"+subfolder\n",
    "\n",
    "            d = Dataset(path)\n",
    "            dims = d.dimensions\n",
    "            vals = d.variables.keys()\n",
    "            values = {k:d[k][:] for k in vals}\n",
    "            data_items[subfolder]=values\n",
    "cdf_files = [\"data/\" + file for file in os.listdir(\"data\") if file.find(\".cdf\")>0]\n",
    "data_files = [Dataset(c) for c in cdf_files]\n",
    "cdf_files"
   ]
  },
  {
   "cell_type": "code",
   "execution_count": 10,
   "metadata": {},
   "outputs": [],
   "source": [
    "#Data requirements:\n",
    "#All sites in one file\n",
    "#One variable\n",
    "#Select all sites\n",
    "#Netcdf, 4 byte, julian\n",
    "#1979, Jan 20.\n",
    "#5-day"
   ]
  },
  {
   "cell_type": "code",
   "execution_count": 11,
   "metadata": {},
   "outputs": [
    {
     "name": "stderr",
     "output_type": "stream",
     "text": [
      "<ipython-input-11-e4cb28bdfdd5>:5: VisibleDeprecationWarning: Creating an ndarray from ragged nested sequences (which is a list-or-tuple of lists-or-tuples-or ndarrays with different lengths or shapes) is deprecated. If you meant to do this, you must specify 'dtype=object' when creating the ndarray\n",
      "  fixed_times = [d['time'][:] for d in data_files]+mod_\n"
     ]
    }
   ],
   "source": [
    "fills = np.array([d['time'][:].fill_value for d in data_files])\n",
    "start_time = 2443895\n",
    "julian.from_jd(start_time, 'jd')\n",
    "mod_ = start_time*(fills > 1e10)\n",
    "fixed_times = [d['time'][:] for d in data_files]+mod_\n",
    "to_find = 2450000\n",
    "finding_values = [list(np.array(d)>to_find).index(True) for d in fixed_times]\n",
    "#Check if it's less than 0 to see if it's 'missing'"
   ]
  },
  {
   "cell_type": "code",
   "execution_count": 12,
   "metadata": {},
   "outputs": [],
   "source": [
    "def find_data_indices(date, arrays=fixed_times):\n",
    "    return [list(np.array(d)>date).index(True) for d in arrays]"
   ]
  },
  {
   "cell_type": "code",
   "execution_count": 13,
   "metadata": {},
   "outputs": [],
   "source": [
    "#Okay. I've got it all on the same scale. Next step- getting a specific day.\n"
   ]
  },
  {
   "cell_type": "code",
   "execution_count": 14,
   "metadata": {},
   "outputs": [
    {
     "data": {
      "text/plain": [
       "[1, 0, 73, 1, 1, 0, 1, 1, 1]"
      ]
     },
     "execution_count": 14,
     "metadata": {},
     "output_type": "execute_result"
    }
   ],
   "source": [
    "\n",
    "starting_point = 82\n",
    "\n",
    "\n",
    "start_x = find_data_indices(all_times[starting_point])\n",
    "#What files to use?\n",
    "features_select = [ False, False, True, False, True,  False, False, True, True,]\n",
    "start_x"
   ]
  },
  {
   "cell_type": "code",
   "execution_count": null,
   "metadata": {},
   "outputs": [],
   "source": []
  },
  {
   "cell_type": "code",
   "execution_count": null,
   "metadata": {},
   "outputs": [],
   "source": []
  },
  {
   "cell_type": "code",
   "execution_count": 15,
   "metadata": {},
   "outputs": [
    {
     "data": {
      "text/plain": [
       "(4, 9)"
      ]
     },
     "execution_count": 15,
     "metadata": {},
     "output_type": "execute_result"
    }
   ],
   "source": [
    "len(np.array(data_files)[features_select]), len(data_files)"
   ]
  },
  {
   "cell_type": "code",
   "execution_count": 16,
   "metadata": {},
   "outputs": [
    {
     "name": "stdout",
     "output_type": "stream",
     "text": [
      "dict_keys(['lon', 'lat', 'depth', 'time2', 'time', 'U_320', 'V_321', 'S_300', 'D_310', 'QS_5300', 'QD_5310', 'SRC_6300'])\n",
      "dict_keys(['time', 'time2', 'depth', 'lat', 'lon', 'WV_423', 'QWV_5423', 'SWV_6423'])\n",
      "dict_keys(['time', 'time2', 'depth', 'lat', 'lon', 'T_20', 'QT_5020', 'ST_6020'])\n",
      "dict_keys(['time', 'time2', 'depth', 'lat', 'lon', 'WU_422', 'QWU_5422', 'SWU_6422'])\n"
     ]
    },
    {
     "data": {
      "text/plain": [
       "array(['data/cur_xyzt_5day.cdf', 'data/vwnd_xyt_5day.cdf',\n",
       "       'data/sst_xyt_5day.cdf', 'data/uwnd_xyt_5day.cdf'], dtype='<U26')"
      ]
     },
     "execution_count": 16,
     "metadata": {},
     "output_type": "execute_result"
    }
   ],
   "source": [
    "to_use = np.array(data_files)[features_select]\n",
    "[print(k.variables.keys()) for k in to_use]\n",
    "np.array(cdf_files)[features_select]"
   ]
  },
  {
   "cell_type": "code",
   "execution_count": 17,
   "metadata": {},
   "outputs": [],
   "source": [
    "variables_we_want = [['U_320', 'V_321'], ['WV_423'], ['T_20'], ['WU_422']]\n",
    "var_names = flat_list = [item for sublist in variables_we_want for item in sublist]"
   ]
  },
  {
   "cell_type": "code",
   "execution_count": 18,
   "metadata": {},
   "outputs": [],
   "source": [
    "s_x = np.array(start_x)[features_select]"
   ]
  },
  {
   "cell_type": "code",
   "execution_count": 43,
   "metadata": {},
   "outputs": [],
   "source": [
    "def process_ds(dataset, start_t_index, variables):\n",
    "    #Start_T is an index.\n",
    "    to_return = []\n",
    "    for v in variables:\n",
    "        if v == 'U_320' or v=='V_321':\n",
    "            vals = dataset[v][:,:,(2,),start_t_index:]\n",
    "            to_return.append(np.transpose(vals, [3, 2, 0, 1]))\n",
    "        else:\n",
    "            to_return.append(dataset[v][start_t_index:, :])\n",
    "    return to_return\n",
    "\n",
    "ds_array = [process_ds(to_use[i], s_x[i], v) for i,v in enumerate(variables_we_want)]\n",
    "flattened_vars = [ma.masked_greater(item, 1e10) for sublist in ds_array for item in sublist]\n",
    "max_len = max([len(i) for i in flattened_vars])"
   ]
  },
  {
   "cell_type": "code",
   "execution_count": 37,
   "metadata": {},
   "outputs": [
    {
     "data": {
      "text/plain": [
       "array([[[ True,  True,  True,  True,  True,  True,  True,  True,  True,\n",
       "          True,  True,  True,  True,  True,  True],\n",
       "        [ True,  True,  True,  True,  True,  True,  True,  True,  True,\n",
       "          True,  True,  True,  True,  True,  True],\n",
       "        [ True,  True,  True,  True,  True,  True,  True,  True,  True,\n",
       "          True,  True,  True,  True,  True,  True],\n",
       "        [ True,  True,  True,  True,  True,  True,  True,  True,  True,\n",
       "          True,  True,  True,  True,  True,  True],\n",
       "        [ True,  True,  True,  True,  True,  True,  True,  True,  True,\n",
       "          True,  True,  True,  True,  True,  True],\n",
       "        [ True,  True,  True,  True,  True,  True,  True,  True,  True,\n",
       "          True,  True,  True,  True,  True,  True],\n",
       "        [ True,  True,  True,  True,  True,  True,  True,  True,  True,\n",
       "          True,  True,  True,  True,  True,  True],\n",
       "        [ True,  True,  True,  True,  True,  True,  True,  True,  True,\n",
       "          True,  True,  True,  True,  True,  True],\n",
       "        [ True,  True,  True,  True,  True,  True,  True,  True,  True,\n",
       "          True,  True,  True,  True,  True,  True],\n",
       "        [ True,  True,  True,  True,  True,  True,  True,  True,  True,\n",
       "          True,  True,  True,  True,  True,  True],\n",
       "        [ True,  True,  True,  True,  True,  True,  True,  True,  True,\n",
       "          True,  True,  True,  True,  True,  True],\n",
       "        [ True,  True,  True,  True,  True,  True,  True,  True,  True,\n",
       "          True,  True,  True,  True,  True,  True],\n",
       "        [ True,  True,  True,  True,  True,  True,  True,  True,  True,\n",
       "          True,  True,  True,  True,  True,  True],\n",
       "        [ True,  True,  True,  True,  True,  True,  True,  True,  True,\n",
       "          True,  True,  True,  True,  True,  True]]])"
      ]
     },
     "execution_count": 37,
     "metadata": {},
     "output_type": "execute_result"
    }
   ],
   "source": [
    "flattened_vars[0][0].mask"
   ]
  },
  {
   "cell_type": "code",
   "execution_count": 41,
   "metadata": {},
   "outputs": [
    {
     "data": {
      "text/plain": [
       "array([[2, 3, 4, 1, 2, 3, 2, 3, 4, 1, 2, 3]])"
      ]
     },
     "execution_count": 41,
     "metadata": {},
     "output_type": "execute_result"
    }
   ],
   "source": [
    "np.array([[[2, 3, 4], [1, 2, 3]], [[2, 3, 4], [1, 2, 3]]]).reshape(1, -1)"
   ]
  },
  {
   "cell_type": "code",
   "execution_count": null,
   "metadata": {},
   "outputs": [],
   "source": []
  },
  {
   "cell_type": "code",
   "execution_count": null,
   "metadata": {},
   "outputs": [],
   "source": []
  },
  {
   "cell_type": "code",
   "execution_count": 44,
   "metadata": {},
   "outputs": [
    {
     "name": "stderr",
     "output_type": "stream",
     "text": [
      "<ipython-input-44-46dd42462753>:12: VisibleDeprecationWarning: Creating an ndarray from ragged nested sequences (which is a list-or-tuple of lists-or-tuples-or ndarrays with different lengths or shapes) is deprecated. If you meant to do this, you must specify 'dtype=object' when creating the ndarray\n",
      "  mean_variables = np.array(values)\n"
     ]
    },
    {
     "ename": "ValueError",
     "evalue": "could not broadcast input array from shape (210) into shape (1)",
     "output_type": "error",
     "traceback": [
      "\u001b[0;31m---------------------------------------------------------------------------\u001b[0m",
      "\u001b[0;31mValueError\u001b[0m                                Traceback (most recent call last)",
      "\u001b[0;32m<ipython-input-44-46dd42462753>\u001b[0m in \u001b[0;36m<module>\u001b[0;34m\u001b[0m\n\u001b[1;32m     10\u001b[0m         \u001b[0mmasks\u001b[0m\u001b[0;34m[\u001b[0m\u001b[0mt\u001b[0m\u001b[0;34m]\u001b[0m\u001b[0;34m.\u001b[0m\u001b[0mappend\u001b[0m\u001b[0;34m(\u001b[0m\u001b[0mnew_mask\u001b[0m\u001b[0;34m.\u001b[0m\u001b[0mreshape\u001b[0m\u001b[0;34m(\u001b[0m\u001b[0;36m1\u001b[0m\u001b[0;34m,\u001b[0m \u001b[0;34m-\u001b[0m\u001b[0;36m1\u001b[0m\u001b[0;34m)\u001b[0m\u001b[0;34m)\u001b[0m\u001b[0;34m\u001b[0m\u001b[0;34m\u001b[0m\u001b[0m\n\u001b[1;32m     11\u001b[0m \u001b[0;34m\u001b[0m\u001b[0m\n\u001b[0;32m---> 12\u001b[0;31m \u001b[0mmean_variables\u001b[0m \u001b[0;34m=\u001b[0m \u001b[0mnp\u001b[0m\u001b[0;34m.\u001b[0m\u001b[0marray\u001b[0m\u001b[0;34m(\u001b[0m\u001b[0mvalues\u001b[0m\u001b[0;34m)\u001b[0m\u001b[0;34m\u001b[0m\u001b[0;34m\u001b[0m\u001b[0m\n\u001b[0m\u001b[1;32m     13\u001b[0m \u001b[0mmean_variables_masked\u001b[0m \u001b[0;34m=\u001b[0m \u001b[0mnp\u001b[0m\u001b[0;34m.\u001b[0m\u001b[0marray\u001b[0m\u001b[0;34m(\u001b[0m\u001b[0mmasks\u001b[0m\u001b[0;34m)\u001b[0m\u001b[0;34m\u001b[0m\u001b[0;34m\u001b[0m\u001b[0m\n\u001b[1;32m     14\u001b[0m \u001b[0;34m\u001b[0m\u001b[0m\n",
      "\u001b[0;31mValueError\u001b[0m: could not broadcast input array from shape (210) into shape (1)"
     ]
    }
   ],
   "source": [
    "values = [[]]*max_len\n",
    "masks = [[]]*max_len\n",
    "\n",
    "for dtype in flattened_vars:\n",
    "    for t, t_slice in enumerate(dtype):\n",
    "        new_mask = t_slice.mask\n",
    "        new_data =ma.filled(t_slice, 0)\n",
    "        \n",
    "        values[t].append(new_data.reshape(1, -1))\n",
    "        masks[t].append(new_mask.reshape(1, -1))\n",
    "\n",
    "mean_variables = np.array(values)\n",
    "mean_variables_masked = np.array(masks)\n",
    "\n",
    "X_ = np.append(mean_variables, mean_variables_masked, axis=1)"
   ]
  },
  {
   "cell_type": "code",
   "execution_count": null,
   "metadata": {},
   "outputs": [],
   "source": [
    "masks"
   ]
  },
  {
   "cell_type": "code",
   "execution_count": 21,
   "metadata": {},
   "outputs": [
    {
     "name": "stderr",
     "output_type": "stream",
     "text": [
      "/home/solomon/anaconda3/envs/metis/lib/python3.8/site-packages/numpy/ma/core.py:2831: UserWarning: Warning: converting a masked element to nan.\n",
      "  _data = np.array(data, dtype=dtype, copy=copy,\n",
      "/home/solomon/anaconda3/envs/metis/lib/python3.8/site-packages/numpy/ma/core.py:2831: UserWarning: Warning: converting a masked element to nan.\n",
      "  _data = np.array(data, dtype=dtype, copy=copy,\n",
      "/home/solomon/anaconda3/envs/metis/lib/python3.8/site-packages/numpy/ma/core.py:2831: UserWarning: Warning: converting a masked element to nan.\n",
      "  _data = np.array(data, dtype=dtype, copy=copy,\n",
      "/home/solomon/anaconda3/envs/metis/lib/python3.8/site-packages/numpy/ma/core.py:2831: UserWarning: Warning: converting a masked element to nan.\n",
      "  _data = np.array(data, dtype=dtype, copy=copy,\n",
      "/home/solomon/anaconda3/envs/metis/lib/python3.8/site-packages/numpy/ma/core.py:2831: UserWarning: Warning: converting a masked element to nan.\n",
      "  _data = np.array(data, dtype=dtype, copy=copy,\n",
      "/home/solomon/anaconda3/envs/metis/lib/python3.8/site-packages/numpy/ma/core.py:2831: UserWarning: Warning: converting a masked element to nan.\n",
      "  _data = np.array(data, dtype=dtype, copy=copy,\n",
      "/home/solomon/anaconda3/envs/metis/lib/python3.8/site-packages/numpy/ma/core.py:2831: UserWarning: Warning: converting a masked element to nan.\n",
      "  _data = np.array(data, dtype=dtype, copy=copy,\n",
      "/home/solomon/anaconda3/envs/metis/lib/python3.8/site-packages/numpy/ma/core.py:2831: UserWarning: Warning: converting a masked element to nan.\n",
      "  _data = np.array(data, dtype=dtype, copy=copy,\n",
      "/home/solomon/anaconda3/envs/metis/lib/python3.8/site-packages/numpy/ma/core.py:2831: UserWarning: Warning: converting a masked element to nan.\n",
      "  _data = np.array(data, dtype=dtype, copy=copy,\n",
      "/home/solomon/anaconda3/envs/metis/lib/python3.8/site-packages/numpy/ma/core.py:2831: UserWarning: Warning: converting a masked element to nan.\n",
      "  _data = np.array(data, dtype=dtype, copy=copy,\n",
      "/home/solomon/anaconda3/envs/metis/lib/python3.8/site-packages/numpy/ma/core.py:2831: UserWarning: Warning: converting a masked element to nan.\n",
      "  _data = np.array(data, dtype=dtype, copy=copy,\n",
      "/home/solomon/anaconda3/envs/metis/lib/python3.8/site-packages/numpy/ma/core.py:2831: UserWarning: Warning: converting a masked element to nan.\n",
      "  _data = np.array(data, dtype=dtype, copy=copy,\n",
      "/home/solomon/anaconda3/envs/metis/lib/python3.8/site-packages/numpy/ma/core.py:2831: UserWarning: Warning: converting a masked element to nan.\n",
      "  _data = np.array(data, dtype=dtype, copy=copy,\n",
      "/home/solomon/anaconda3/envs/metis/lib/python3.8/site-packages/numpy/ma/core.py:2831: UserWarning: Warning: converting a masked element to nan.\n",
      "  _data = np.array(data, dtype=dtype, copy=copy,\n",
      "/home/solomon/anaconda3/envs/metis/lib/python3.8/site-packages/numpy/ma/core.py:2831: UserWarning: Warning: converting a masked element to nan.\n",
      "  _data = np.array(data, dtype=dtype, copy=copy,\n",
      "/home/solomon/anaconda3/envs/metis/lib/python3.8/site-packages/numpy/ma/core.py:2831: UserWarning: Warning: converting a masked element to nan.\n",
      "  _data = np.array(data, dtype=dtype, copy=copy,\n",
      "/home/solomon/anaconda3/envs/metis/lib/python3.8/site-packages/numpy/ma/core.py:2831: UserWarning: Warning: converting a masked element to nan.\n",
      "  _data = np.array(data, dtype=dtype, copy=copy,\n",
      "/home/solomon/anaconda3/envs/metis/lib/python3.8/site-packages/numpy/ma/core.py:2831: UserWarning: Warning: converting a masked element to nan.\n",
      "  _data = np.array(data, dtype=dtype, copy=copy,\n",
      "/home/solomon/anaconda3/envs/metis/lib/python3.8/site-packages/numpy/ma/core.py:2831: UserWarning: Warning: converting a masked element to nan.\n",
      "  _data = np.array(data, dtype=dtype, copy=copy,\n",
      "/home/solomon/anaconda3/envs/metis/lib/python3.8/site-packages/numpy/ma/core.py:2831: UserWarning: Warning: converting a masked element to nan.\n",
      "  _data = np.array(data, dtype=dtype, copy=copy,\n",
      "/home/solomon/anaconda3/envs/metis/lib/python3.8/site-packages/numpy/ma/core.py:2831: UserWarning: Warning: converting a masked element to nan.\n",
      "  _data = np.array(data, dtype=dtype, copy=copy,\n",
      "/home/solomon/anaconda3/envs/metis/lib/python3.8/site-packages/numpy/ma/core.py:2831: UserWarning: Warning: converting a masked element to nan.\n",
      "  _data = np.array(data, dtype=dtype, copy=copy,\n",
      "/home/solomon/anaconda3/envs/metis/lib/python3.8/site-packages/numpy/ma/core.py:2831: UserWarning: Warning: converting a masked element to nan.\n",
      "  _data = np.array(data, dtype=dtype, copy=copy,\n",
      "/home/solomon/anaconda3/envs/metis/lib/python3.8/site-packages/numpy/ma/core.py:2831: UserWarning: Warning: converting a masked element to nan.\n",
      "  _data = np.array(data, dtype=dtype, copy=copy,\n",
      "/home/solomon/anaconda3/envs/metis/lib/python3.8/site-packages/numpy/ma/core.py:2831: UserWarning: Warning: converting a masked element to nan.\n",
      "  _data = np.array(data, dtype=dtype, copy=copy,\n",
      "/home/solomon/anaconda3/envs/metis/lib/python3.8/site-packages/numpy/ma/core.py:2831: UserWarning: Warning: converting a masked element to nan.\n",
      "  _data = np.array(data, dtype=dtype, copy=copy,\n",
      "/home/solomon/anaconda3/envs/metis/lib/python3.8/site-packages/numpy/ma/core.py:2831: UserWarning: Warning: converting a masked element to nan.\n",
      "  _data = np.array(data, dtype=dtype, copy=copy,\n",
      "/home/solomon/anaconda3/envs/metis/lib/python3.8/site-packages/numpy/ma/core.py:2831: UserWarning: Warning: converting a masked element to nan.\n",
      "  _data = np.array(data, dtype=dtype, copy=copy,\n",
      "/home/solomon/anaconda3/envs/metis/lib/python3.8/site-packages/numpy/ma/core.py:2831: UserWarning: Warning: converting a masked element to nan.\n",
      "  _data = np.array(data, dtype=dtype, copy=copy,\n",
      "/home/solomon/anaconda3/envs/metis/lib/python3.8/site-packages/numpy/ma/core.py:2831: UserWarning: Warning: converting a masked element to nan.\n",
      "  _data = np.array(data, dtype=dtype, copy=copy,\n",
      "/home/solomon/anaconda3/envs/metis/lib/python3.8/site-packages/numpy/ma/core.py:2831: UserWarning: Warning: converting a masked element to nan.\n",
      "  _data = np.array(data, dtype=dtype, copy=copy,\n",
      "/home/solomon/anaconda3/envs/metis/lib/python3.8/site-packages/numpy/ma/core.py:2831: UserWarning: Warning: converting a masked element to nan.\n",
      "  _data = np.array(data, dtype=dtype, copy=copy,\n",
      "/home/solomon/anaconda3/envs/metis/lib/python3.8/site-packages/numpy/ma/core.py:2831: UserWarning: Warning: converting a masked element to nan.\n",
      "  _data = np.array(data, dtype=dtype, copy=copy,\n",
      "/home/solomon/anaconda3/envs/metis/lib/python3.8/site-packages/numpy/ma/core.py:2831: UserWarning: Warning: converting a masked element to nan.\n",
      "  _data = np.array(data, dtype=dtype, copy=copy,\n"
     ]
    }
   ],
   "source": [
    "import pandas as pd\n",
    "from sklearn.metrics import r2_score\n",
    "from sklearn.linear_model import LinearRegression\n",
    "from sklearn.model_selection import train_test_split\n",
    "\n",
    "\n",
    "r2s = []\n",
    "for delay in range(25, 365, 10):\n",
    "    start_y = starting_point + delay//5\n",
    "\n",
    "    y = []\n",
    "    filt_y = []\n",
    "    for time in all_times[start_y:]:\n",
    "        mask = times==time\n",
    "        ONI = np.mean(T_25[mask])\n",
    "        if ONI is ma.masked:\n",
    "            filt_y.append(False)\n",
    "        else:\n",
    "            filt_y.append(True)\n",
    "        y.append(ONI)\n",
    "\n",
    "    X = X_[0:len(y)]\n",
    "    X = X[filt_y[0:len(X)]]\n",
    "    y = ma.array(y)[filt_y]\n",
    "    y = y[:len(X)]\n",
    "    x_names = var_names + [name+\"_mask\" for name in var_names]\n",
    "    X = pd.DataFrame(X, columns=x_names)\n",
    "    \n",
    "    X_model, X_validate, y_model, y_validate = train_test_split(X,y, test_size=0.25, random_state=42)\n",
    "    X_train, X_test, y_train, y_test = train_test_split(X_model,y_model, test_size=0.25, random_state=42)\n",
    "    lr = LinearRegression()\n",
    "    lr.fit(X_train,y_train)\n",
    "\n",
    "    r2s.append(r2_score(y_test, lr.predict(X_test)))"
   ]
  },
  {
   "cell_type": "code",
   "execution_count": 22,
   "metadata": {},
   "outputs": [],
   "source": [
    "import matplotlib.pyplot as plt"
   ]
  },
  {
   "cell_type": "code",
   "execution_count": 23,
   "metadata": {},
   "outputs": [
    {
     "data": {
      "image/png": "[encoded data removed]",
      "text/plain": [
       "<Figure size 432x288 with 1 Axes>"
      ]
     },
     "metadata": {
      "needs_background": "light"
     },
     "output_type": "display_data"
    }
   ],
   "source": [
    "plt.plot(r2s)\n",
    "plt.xticks(range(0, len(r2s), 2), range(25, 365, 20));\n",
    "plt.xlabel(\"Days\")\n",
    "plt.ylabel(\"R^2\");"
   ]
  },
  {
   "cell_type": "code",
   "execution_count": null,
   "metadata": {},
   "outputs": [],
   "source": []
  },
  {
   "cell_type": "code",
   "execution_count": null,
   "metadata": {},
   "outputs": [],
   "source": []
  },
  {
   "cell_type": "code",
   "execution_count": null,
   "metadata": {},
   "outputs": [],
   "source": []
  },
  {
   "cell_type": "code",
   "execution_count": null,
   "metadata": {},
   "outputs": [],
   "source": []
  },
  {
   "cell_type": "code",
   "execution_count": 24,
   "metadata": {},
   "outputs": [
    {
     "data": {
      "text/plain": [
       "array([ 0.00274786,  0.00174172,  0.05547595,  0.04543904, -0.09557159,\n",
       "        0.25643921,  0.25643921,  0.04446409,  0.39014619,  0.04446409])"
      ]
     },
     "execution_count": 24,
     "metadata": {},
     "output_type": "execute_result"
    }
   ],
   "source": [
    "lr.coef_"
   ]
  },
  {
   "cell_type": "code",
   "execution_count": 25,
   "metadata": {},
   "outputs": [
    {
     "data": {
      "text/plain": [
       "\"\\nTODO\\nAverage whole ocean, ignoring missing values to start.\\n\\nLinear regression!\\nTime-series problem first.\\n\\nThen- use each buoy as a feature, also mask.\\n\\nNeed which features are most informative.\\n\\nNNs- start with vanilla NN, then after that's going, can start with RNN or \\n\\n\""
      ]
     },
     "execution_count": 25,
     "metadata": {},
     "output_type": "execute_result"
    }
   ],
   "source": [
    "'''\n",
    "TODO\n",
    "Average whole ocean, ignoring missing values to start.\n",
    "\n",
    "Linear regression!\n",
    "Time-series problem first.\n",
    "\n",
    "Then- use each buoy as a feature, also mask.\n",
    "\n",
    "Need which features are most informative.\n",
    "\n",
    "NNs- start with vanilla NN, then after that's going, can start with RNN or \n",
    "\n",
    "'''\n",
    "\n"
   ]
  },
  {
   "cell_type": "code",
   "execution_count": null,
   "metadata": {},
   "outputs": [],
   "source": []
  }
 ],
 "metadata": {
  "kernelspec": {
   "display_name": "Python [conda env:metis] *",
   "language": "python",
   "name": "conda-env-metis-py"
  },
  "language_info": {
   "codemirror_mode": {
    "name": "ipython",
    "version": 3
   },
   "file_extension": ".py",
   "mimetype": "text/x-python",
   "name": "python",
   "nbconvert_exporter": "python",
   "pygments_lexer": "ipython3",
   "version": "3.8.5"
  }
 },
 "nbformat": 4,
 "nbformat_minor": 4
}
