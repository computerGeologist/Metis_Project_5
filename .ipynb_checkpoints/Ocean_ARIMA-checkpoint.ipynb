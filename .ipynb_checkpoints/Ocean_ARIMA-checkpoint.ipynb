{
 "cells": [
  {
   "cell_type": "code",
   "execution_count": 1,
   "metadata": {},
   "outputs": [],
   "source": [
    "import netCDF4 as nc\n",
    "import os\n",
    "import numpy as np\n",
    "import julian\n",
    "import numpy.ma as ma"
   ]
  },
  {
   "cell_type": "markdown",
   "metadata": {},
   "source": [
    "Todo list:\n",
    "- Moving average- have 'noise' from last year. \n",
    "- Improve ONI to 3.4 region\n",
    "- Try neural net\n",
    "- Try RNN"
   ]
  },
  {
   "cell_type": "code",
   "execution_count": null,
   "metadata": {},
   "outputs": [],
   "source": []
  },
  {
   "cell_type": "code",
   "execution_count": 2,
   "metadata": {},
   "outputs": [
    {
     "name": "stdout",
     "output_type": "stream",
     "text": [
      "sst_anom\n",
      "['README_sst.txt', 'sst_anom_0n110w_5day.cdf', 'sst_anom_0n156e_5day.cdf', 'read_netcdf.f', 'sst_anom_0n165e_5day.cdf']\n",
      "17\n"
     ]
    }
   ],
   "source": [
    "import subprocess\n",
    "\n",
    "for subfolder in os.listdir('data'):\n",
    "    if subfolder.find(\".\")<0 :\n",
    "        contents = os.listdir(\"data/\" +subfolder)\n",
    "        print(subfolder)\n",
    "        print(contents[0:5])\n",
    "        print(len(contents))\n",
    "        if len(contents) <5:\n",
    "            #identify the file\n",
    "            target = 0\n",
    "            for i,x in enumerate(contents):\n",
    "                if x.find(\".tar\")>0:\n",
    "                    target=i\n",
    "            os.system(\"tar -xvf data/\"+subfolder+\"/'\"+contents[target]+\"' -C data/\"+subfolder)\n",
    "        contents = os.listdir(\"data/\" +subfolder)\n",
    "        if sum([i.find(\".cdf.gz\")>0 for i in contents])>0:\n",
    "            os.system(\"gunzip data/\"+subfolder+\"/*.gz\")"
   ]
  },
  {
   "cell_type": "code",
   "execution_count": 3,
   "metadata": {},
   "outputs": [],
   "source": [
    "path_to_anomaly = \"data/sst_anom\"\n",
    "path = path_to_anomaly\n",
    "anomaly_files = [path+\"/\" + file for file in os.listdir(path) if file.find(\".cdf\")>0]"
   ]
  },
  {
   "cell_type": "code",
   "execution_count": 4,
   "metadata": {},
   "outputs": [],
   "source": [
    "anomalies = [f for f in anomaly_files if f.find(\"anom_\")>0]\n",
    "from netCDF4 import MFDataset\n",
    "from netCDF4 import Dataset\n",
    "\n",
    "anomalies_ds = MFDataset(anomalies, aggdim = 'time')"
   ]
  },
  {
   "cell_type": "code",
   "execution_count": 5,
   "metadata": {},
   "outputs": [
    {
     "data": {
      "text/plain": [
       "(2444306, 2457730)"
      ]
     },
     "execution_count": 5,
     "metadata": {},
     "output_type": "execute_result"
    }
   ],
   "source": [
    "times_set = set(anomalies_ds['time'][:])\n",
    "times = anomalies_ds['time'][:]\n",
    "T_25 = anomalies_ds['T_25'][:]\n",
    "times[0], times[-1]"
   ]
  },
  {
   "cell_type": "code",
   "execution_count": 6,
   "metadata": {},
   "outputs": [],
   "source": [
    "all_times = np.array(sorted(times_set))\n",
    "dates = np.array([julian.from_jd(t, 'jd') for t in all_times])\n",
    "month_key = [(d.year, d.month) for d in dates]\n",
    "month_key_unique = sorted(set(month_key))"
   ]
  },
  {
   "cell_type": "code",
   "execution_count": 7,
   "metadata": {},
   "outputs": [
    {
     "name": "stderr",
     "output_type": "stream",
     "text": [
      "/home/solomon/anaconda3/envs/metis/lib/python3.8/site-packages/numpy/core/fromnumeric.py:3372: RuntimeWarning: Mean of empty slice.\n",
      "  return _methods._mean(a, axis=axis, dtype=dtype,\n",
      "/home/solomon/anaconda3/envs/metis/lib/python3.8/site-packages/numpy/core/_methods.py:170: RuntimeWarning: invalid value encountered in double_scalars\n",
      "  ret = ret.dtype.type(ret / rcount)\n"
     ]
    }
   ],
   "source": [
    "#Process:\n",
    "'''\n",
    "For each label in month_key_unique, get it and the previous two keys.\n",
    "'''\n",
    "running_averages = []\n",
    "for i in range(2, len(month_key_unique)):    \n",
    "    months = [month_key_unique[i-j] for j in range(3)]\n",
    "    mask = [m in months for m in month_key]\n",
    "    time_window = set(all_times[mask])\n",
    "    include = [t in time_window for t in times]\n",
    "    to_average = [T_25[i] for i in range(len(T_25)) if include[i] and T_25[i]<1e10]\n",
    "    running_averages.append(np.mean(to_average))\n",
    "running_averages = np.array(running_averages)"
   ]
  },
  {
   "cell_type": "code",
   "execution_count": 8,
   "metadata": {},
   "outputs": [
    {
     "name": "stdout",
     "output_type": "stream",
     "text": [
      "wdir_xyt_5day.cdf\n",
      "sss_xyt_5day.cdf\n",
      "cur_xyzt_5day.cdf\n",
      "sst_anom_xyt_5day.cdf\n",
      "vwnd_xyt_5day.cdf\n",
      "bp_xyt_5day.cdf\n",
      "wspd_xyt_5day.cdf\n",
      "sst_xyt_5day.cdf\n",
      "uwnd_xyt_5day.cdf\n"
     ]
    },
    {
     "data": {
      "text/plain": [
       "['data/wdir_xyt_5day.cdf',\n",
       " 'data/sss_xyt_5day.cdf',\n",
       " 'data/cur_xyzt_5day.cdf',\n",
       " 'data/sst_anom_xyt_5day.cdf',\n",
       " 'data/vwnd_xyt_5day.cdf',\n",
       " 'data/bp_xyt_5day.cdf',\n",
       " 'data/wspd_xyt_5day.cdf',\n",
       " 'data/sst_xyt_5day.cdf',\n",
       " 'data/uwnd_xyt_5day.cdf']"
      ]
     },
     "execution_count": 8,
     "metadata": {},
     "output_type": "execute_result"
    }
   ],
   "source": [
    "data_items = {}\n",
    "for subfolder in os.listdir('data'):\n",
    "    if subfolder.find(\".cdf\")>0:\n",
    "        if subfolder.find(\"anom\")<10000:\n",
    "            print(subfolder)\n",
    "            path = \"data/\"+subfolder\n",
    "\n",
    "            d = Dataset(path)\n",
    "            dims = d.dimensions\n",
    "            vals = d.variables.keys()\n",
    "            values = {k:d[k][:] for k in vals}\n",
    "            data_items[subfolder]=values\n",
    "cdf_files = [\"data/\" + file for file in os.listdir(\"data\") if file.find(\".cdf\")>0]\n",
    "data_files = [Dataset(c) for c in cdf_files]\n",
    "cdf_files"
   ]
  },
  {
   "cell_type": "code",
   "execution_count": 9,
   "metadata": {},
   "outputs": [],
   "source": [
    "#Data requirements:\n",
    "#All sites in one file\n",
    "#One variable\n",
    "#Select all sites\n",
    "#Netcdf, 4 byte, julian\n",
    "#1979, Jan 20.\n",
    "#5-day"
   ]
  },
  {
   "cell_type": "code",
   "execution_count": 10,
   "metadata": {},
   "outputs": [
    {
     "name": "stderr",
     "output_type": "stream",
     "text": [
      "<ipython-input-10-e4cb28bdfdd5>:5: VisibleDeprecationWarning: Creating an ndarray from ragged nested sequences (which is a list-or-tuple of lists-or-tuples-or ndarrays with different lengths or shapes) is deprecated. If you meant to do this, you must specify 'dtype=object' when creating the ndarray\n",
      "  fixed_times = [d['time'][:] for d in data_files]+mod_\n"
     ]
    }
   ],
   "source": [
    "fills = np.array([d['time'][:].fill_value for d in data_files])\n",
    "start_time = 2443895\n",
    "julian.from_jd(start_time, 'jd')\n",
    "mod_ = start_time*(fills > 1e10)\n",
    "fixed_times = [d['time'][:] for d in data_files]+mod_\n",
    "to_find = 2450000\n",
    "finding_values = [list(np.array(d)>to_find).index(True) for d in fixed_times]\n",
    "#Check if it's less than 0 to see if it's 'missing'"
   ]
  },
  {
   "cell_type": "code",
   "execution_count": 11,
   "metadata": {},
   "outputs": [],
   "source": [
    "def find_data_indices(date, arrays=fixed_times):\n",
    "    return [list(np.array(d)>date).index(True) for d in arrays]"
   ]
  },
  {
   "cell_type": "code",
   "execution_count": 12,
   "metadata": {},
   "outputs": [],
   "source": [
    "#Okay. I've got it all on the same scale. Next step- getting a specific day.\n"
   ]
  },
  {
   "cell_type": "code",
   "execution_count": 13,
   "metadata": {},
   "outputs": [
    {
     "data": {
      "text/plain": [
       "[1, 0, 73, 1, 1, 0, 1, 1, 1]"
      ]
     },
     "execution_count": 13,
     "metadata": {},
     "output_type": "execute_result"
    }
   ],
   "source": [
    "\n",
    "starting_point = 82\n",
    "start_x = find_data_indices(all_times[starting_point])\n",
    "#What files to use?\n",
    "features_select = [ False, False, True, False, True,  False, False, True, True,]\n",
    "start_x"
   ]
  },
  {
   "cell_type": "code",
   "execution_count": 14,
   "metadata": {},
   "outputs": [],
   "source": [
    "files_we_use = np.array(data_files)[features_select]"
   ]
  },
  {
   "cell_type": "code",
   "execution_count": null,
   "metadata": {},
   "outputs": [],
   "source": []
  },
  {
   "cell_type": "code",
   "execution_count": null,
   "metadata": {},
   "outputs": [],
   "source": []
  },
  {
   "cell_type": "code",
   "execution_count": 15,
   "metadata": {},
   "outputs": [
    {
     "name": "stdout",
     "output_type": "stream",
     "text": [
      "dict_keys(['lon', 'lat', 'depth', 'time2', 'time', 'U_320', 'V_321', 'S_300', 'D_310', 'QS_5300', 'QD_5310', 'SRC_6300'])\n",
      "dict_keys(['time', 'time2', 'depth', 'lat', 'lon', 'WV_423', 'QWV_5423', 'SWV_6423'])\n",
      "dict_keys(['time', 'time2', 'depth', 'lat', 'lon', 'T_20', 'QT_5020', 'ST_6020'])\n",
      "dict_keys(['time', 'time2', 'depth', 'lat', 'lon', 'WU_422', 'QWU_5422', 'SWU_6422'])\n"
     ]
    },
    {
     "data": {
      "text/plain": [
       "array(['data/cur_xyzt_5day.cdf', 'data/vwnd_xyt_5day.cdf',\n",
       "       'data/sst_xyt_5day.cdf', 'data/uwnd_xyt_5day.cdf'], dtype='<U26')"
      ]
     },
     "execution_count": 15,
     "metadata": {},
     "output_type": "execute_result"
    }
   ],
   "source": [
    "to_use = np.array(data_files)[features_select]\n",
    "[print(k.variables.keys()) for k in to_use]\n",
    "np.array(cdf_files)[features_select]"
   ]
  },
  {
   "cell_type": "code",
   "execution_count": 16,
   "metadata": {},
   "outputs": [],
   "source": [
    "variables_we_want = [['U_320', 'V_321'], ['WV_423'], ['T_20'], ['WU_422']]\n",
    "var_names = flat_list = [item for sublist in variables_we_want for item in sublist]"
   ]
  },
  {
   "cell_type": "code",
   "execution_count": 17,
   "metadata": {},
   "outputs": [],
   "source": [
    "s_x = np.array(start_x)[features_select]"
   ]
  },
  {
   "cell_type": "code",
   "execution_count": 18,
   "metadata": {},
   "outputs": [],
   "source": [
    "def process_ds(dataset, start_t_index, variables):\n",
    "    #Start_T is an index.\n",
    "    to_return = []\n",
    "    for v in variables:\n",
    "        if v == 'U_320' or v=='V_321':\n",
    "            vals = dataset[v][:,:,(2,),start_t_index:]\n",
    "            to_return.append(np.transpose(vals, [3, 2, 0, 1]))\n",
    "        else:\n",
    "            to_return.append(dataset[v][start_t_index:, :])\n",
    "    return to_return\n",
    "\n",
    "ds_array = [process_ds(to_use[i], s_x[i], v) for i,v in enumerate(variables_we_want)]\n",
    "\n",
    "flattened_vars = [ma.masked_greater(item, 1e10) for sublist in ds_array for item in sublist]\n",
    "max_len = max([len(i) for i in flattened_vars])"
   ]
  },
  {
   "cell_type": "code",
   "execution_count": 19,
   "metadata": {},
   "outputs": [
    {
     "data": {
      "text/plain": [
       "63"
      ]
     },
     "execution_count": 19,
     "metadata": {},
     "output_type": "execute_result"
    }
   ],
   "source": [
    "np.sum(1-flattened_vars[3][2000].mask)"
   ]
  },
  {
   "cell_type": "code",
   "execution_count": null,
   "metadata": {},
   "outputs": [],
   "source": []
  },
  {
   "cell_type": "code",
   "execution_count": null,
   "metadata": {},
   "outputs": [],
   "source": []
  },
  {
   "cell_type": "code",
   "execution_count": null,
   "metadata": {},
   "outputs": [],
   "source": []
  },
  {
   "cell_type": "code",
   "execution_count": 20,
   "metadata": {
    "scrolled": true
   },
   "outputs": [],
   "source": [
    "vals = [[0] for i in range(max_len)]\n",
    "dims_type = []\n",
    "buoys = []\n",
    "for i, dtype in enumerate(flattened_vars):\n",
    "    dtype_dims = dtype[0].shape\n",
    "    dims_type.append(dtype_dims)\n",
    "    dims_type.append(dtype_dims)\n",
    "    \n",
    "    for j,timeslice in enumerate(dtype):\n",
    "        t_slice = list(np.ma.filled(timeslice, 0).reshape(1, -1)[0])\n",
    "        m_slice = list(timeslice.mask.reshape(1, -1)[0])\n",
    "        vals[j] += t_slice\n",
    "        vals[j] += m_slice\n",
    "\n",
    "#mean_variables = np.array([[means[v][t] for v in range(len(means))] for t in range(len(means[0]))])\n",
    "#mean_variables_masked = (mean_variables==1e10)*1\n",
    "#mean_variables[mean_variables==1e10]=0\n",
    "\n",
    "#Clearing out columns of all 0's. \n",
    "vals = np.array(vals)\n",
    "\n",
    "tokeep = []\n",
    "for i in range(len(vals[0])):\n",
    "    latlonslice = vals[:, i]\n",
    "    if min(latlonslice)==max(latlonslice):\n",
    "        tokeep.append(False)\n",
    "    else:\n",
    "        tokeep.append(True)\n",
    "\n",
    "X_ =vals[:, tokeep]\n"
   ]
  },
  {
   "cell_type": "code",
   "execution_count": 21,
   "metadata": {},
   "outputs": [],
   "source": [
    "#Generate target variable. \n",
    "start_y = starting_point \n",
    "ONIs = []\n",
    "filt_ONI = []\n",
    "for time in all_times[start_y:]:\n",
    "    mask = times==time\n",
    "    ONI = np.mean(T_25[mask])\n",
    "    if ONI is ma.masked:\n",
    "        filt_ONI.append(False)\n",
    "    else:\n",
    "        filt_ONI.append(True)\n",
    "    ONIs.append(ONI)\n"
   ]
  },
  {
   "cell_type": "code",
   "execution_count": 22,
   "metadata": {},
   "outputs": [
    {
     "data": {
      "text/plain": [
       "(2472, 2472)"
      ]
     },
     "execution_count": 22,
     "metadata": {},
     "output_type": "execute_result"
    }
   ],
   "source": [
    "sum(filt_ONI[500:]), len(ONIs[500:])"
   ]
  },
  {
   "cell_type": "code",
   "execution_count": 23,
   "metadata": {},
   "outputs": [
    {
     "name": "stderr",
     "output_type": "stream",
     "text": [
      "/home/solomon/anaconda3/envs/metis/lib/python3.8/site-packages/numpy/ma/core.py:2831: UserWarning: Warning: converting a masked element to nan.\n",
      "  _data = np.array(data, dtype=dtype, copy=copy,\n"
     ]
    }
   ],
   "source": [
    "import pandas as pd\n",
    "from sklearn.metrics import r2_score\n",
    "from sklearn.metrics import mean_absolute_error\n",
    "from sklearn.linear_model import LinearRegression\n",
    "from sklearn.linear_model import Ridge\n",
    "from sklearn.linear_model import Lasso\n",
    "from sklearn.preprocessing import StandardScaler\n",
    "from sklearn.model_selection import train_test_split\n",
    "\n",
    "import matplotlib.pyplot as plt\n",
    "\n",
    "\n",
    "\n",
    "\n",
    "delays = [95, 185, 275, 365]\n",
    "delay = delays[0]\n",
    "\n",
    "def generate_XY(delays = 365, X_ = X_, y_ = ONIs, filt_y_ = filt_ONI, skip_initial = 500):\n",
    "    delay_index = delay//5\n",
    "    y = y_[delay_index:]\n",
    "    filt_y = filt_y_[delay_index:]\n",
    "\n",
    "    X = np.array(X_[0:len(y)])\n",
    "    X = X[filt_y[0:len(X)]]\n",
    "    y = ma.array(y)[filt_y]\n",
    "    y = y[:len(X)]\n",
    "    y = y[skip_initial:]\n",
    "    \n",
    "    x_names = var_names + [name+\"_mask\" for name in var_names]\n",
    "    X = pd.DataFrame(X[skip_initial:])#, columns=x_names)\n",
    "    return X,y\n",
    "X,y = generate_XY()\n",
    "\n",
    "#s = StandardScaler()\n",
    "#X= s.fit_transform(X)\n",
    "\n",
    "#X_model, X_validate, y_model, y_validate = train_test_split(X,y, test_size=0.25, random_state=42)\n",
    "#X_train, X_test, y_train, y_test = train_test_split(X_model,y_model, test_size=0.25, random_state=42)\n",
    "\n",
    "test_size = 1000\n",
    "X_train = X[0:test_size]\n",
    "y_train = y[0:test_size]\n",
    "X_test = X[test_size:]\n",
    "y_test = y[test_size:]"
   ]
  },
  {
   "cell_type": "code",
   "execution_count": 24,
   "metadata": {},
   "outputs": [
    {
     "name": "stdout",
     "output_type": "stream",
     "text": [
      "CPU times: user 3 µs, sys: 0 ns, total: 3 µs\n",
      "Wall time: 5.96 µs\n"
     ]
    },
    {
     "data": {
      "text/plain": [
       "2"
      ]
     },
     "execution_count": 24,
     "metadata": {},
     "output_type": "execute_result"
    }
   ],
   "source": [
    "%%time\n",
    "1+1"
   ]
  },
  {
   "cell_type": "code",
   "execution_count": 25,
   "metadata": {
    "scrolled": true
   },
   "outputs": [],
   "source": [
    "import statsmodels.api as smt\n",
    "import statsmodels.tsa as sm\n",
    "\n",
    "def plots(data, lags=None):\n",
    "    layout = (1, 3)\n",
    "    raw  = plt.subplot2grid(layout, (0, 0))\n",
    "    acf  = plt.subplot2grid(layout, (0, 1))\n",
    "    pacf = plt.subplot2grid(layout, (0, 2))\n",
    "    \n",
    "    raw.plot(data)\n",
    "    smt.graphics.plot_acf(data, lags=lags, ax=acf)\n",
    "    smt.graphics.plot_pacf(data, lags=lags, ax=pacf)\n",
    "    sns.despine()\n",
    "    plt.tight_layout()"
   ]
  },
  {
   "cell_type": "code",
   "execution_count": 26,
   "metadata": {},
   "outputs": [],
   "source": [
    "import seaborn as sns\n",
    "import statsmodels.tsa.api as smt\n",
    "\n",
    "import warnings\n",
    "warnings.filterwarnings(\"ignore\")"
   ]
  },
  {
   "cell_type": "code",
   "execution_count": 242,
   "metadata": {},
   "outputs": [
    {
     "name": "stdout",
     "output_type": "stream",
     "text": [
      "CPU times: user 6min 13s, sys: 18min 9s, total: 24min 22s\n",
      "Wall time: 2min 4s\n"
     ]
    },
    {
     "data": {
      "text/plain": [
       "[<matplotlib.lines.Line2D at 0x7f96b37e2d60>]"
      ]
     },
     "execution_count": 242,
     "metadata": {},
     "output_type": "execute_result"
    },
    {
     "data": {
      "image/png": "[encoded data removed]",
      "text/plain": [
       "<Figure size 432x288 with 1 Axes>"
      ]
     },
     "metadata": {
      "needs_background": "light"
     },
     "output_type": "display_data"
    }
   ],
   "source": [
    "%%time\n",
    "sar2 = sm.arima.model.ARIMA(y_train, X_train, order=(2, 2, 1)).fit()\n",
    "plt.plot(range(400, 2000), y[400:2000])\n",
    "plt.plot(sar2.predict(start=400, end=2000, exog = X[999:2000]))\n",
    "#sar.summary()\n",
    "#plots(sar.resid, lags=40);"
   ]
  },
  {
   "cell_type": "code",
   "execution_count": 207,
   "metadata": {},
   "outputs": [
    {
     "name": "stdout",
     "output_type": "stream",
     "text": [
      "CPU times: user 2min 39s, sys: 8min 22s, total: 11min 2s\n",
      "Wall time: 1min\n"
     ]
    },
    {
     "data": {
      "text/plain": [
       "[<matplotlib.lines.Line2D at 0x7f96b3625940>]"
      ]
     },
     "execution_count": 207,
     "metadata": {},
     "output_type": "execute_result"
    },
    {
     "data": {
      "image/png": "[encoded data removed]",
      "text/plain": [
       "<Figure size 432x288 with 1 Axes>"
      ]
     },
     "metadata": {
      "needs_background": "light"
     },
     "output_type": "display_data"
    }
   ],
   "source": [
    "%%time\n",
    "sar = sm.arima.model.ARIMA(y_train, X_train, order=(1, 1, 0)).fit()\n",
    "plt.plot(range(400, 2000), y[400:2000])\n",
    "plt.plot(sar.predict(start=400, end=2000, exog = X[999:2000]))"
   ]
  },
  {
   "cell_type": "code",
   "execution_count": 219,
   "metadata": {},
   "outputs": [
    {
     "name": "stdout",
     "output_type": "stream",
     "text": [
      "CPU times: user 3min 20s, sys: 9min 43s, total: 13min 4s\n",
      "Wall time: 1min 9s\n"
     ]
    },
    {
     "data": {
      "text/plain": [
       "[<matplotlib.lines.Line2D at 0x7f96b3562f70>]"
      ]
     },
     "execution_count": 219,
     "metadata": {},
     "output_type": "execute_result"
    },
    {
     "data": {
      "image/png": "[encoded data removed]",
      "text/plain": [
       "<Figure size 432x288 with 1 Axes>"
      ]
     },
     "metadata": {
      "needs_background": "light"
     },
     "output_type": "display_data"
    }
   ],
   "source": [
    "%%time\n",
    "sar = sm.arima.model.ARIMA(y_train, X_train, order=(1, 1, 1)).fit()\n",
    "plt.plot(range(0, 2000), y[0:2000])\n",
    "plt.plot(sar.predict(start=0, end=2000, exog = X[999:2000]))"
   ]
  },
  {
   "cell_type": "code",
   "execution_count": 215,
   "metadata": {},
   "outputs": [
    {
     "data": {
      "text/plain": [
       "0.37370240795053633"
      ]
     },
     "execution_count": 215,
     "metadata": {},
     "output_type": "execute_result"
    }
   ],
   "source": [
    "mean_absolute_error(sar.predict(start=400, end=2000, exog = X[999:2000])[600:700], y[399:2000][600:700])"
   ]
  },
  {
   "cell_type": "code",
   "execution_count": null,
   "metadata": {},
   "outputs": [],
   "source": [
    "help(sar.forecast)"
   ]
  },
  {
   "cell_type": "code",
   "execution_count": null,
   "metadata": {},
   "outputs": [
    {
     "name": "stdout",
     "output_type": "stream",
     "text": [
      "iteration:1000\n"
     ]
    }
   ],
   "source": [
    "#Doing it 50 at a time.\n",
    "max_estimate = 1050#(len(X)//50)\n",
    "predictions = []\n",
    "sars = []\n",
    "for i in 50*np.array(range(test_size//50, max_estimate)):\n",
    "    predict_rng = i+50\n",
    "    print(\"iteration:\" + str(i))\n",
    "    X_train = X[0:i]\n",
    "    y_train = y[0:i]\n",
    "    X_exog = X[i-1:predict_rng]\n",
    "    sar = sm.arima.model.ARIMA(y_train, X_train, order=(1, 1, 1)).fit()\n",
    "    sars.append(sa)\n",
    "    predictions.append(sar.predict(start = 0, end= predict_rng, exog = X_exog))"
   ]
  },
  {
   "cell_type": "code",
   "execution_count": 235,
   "metadata": {},
   "outputs": [],
   "source": [
    "import pickle\n",
    "pickle.dump(predictions, open(\"Model_Predictions.p\", \"wb\"))\n",
    "pickle.dump(sar, open(\"Most_Recent_Model.p\", \"wb\"))"
   ]
  },
  {
   "cell_type": "code",
   "execution_count": 271,
   "metadata": {},
   "outputs": [],
   "source": [
    "predictions_compliled = np.concatenate([predict[-50:] for predict in predictions])"
   ]
  },
  {
   "cell_type": "code",
   "execution_count": 270,
   "metadata": {},
   "outputs": [
    {
     "data": {
      "text/plain": [
       "(0.0, 1500.0)"
      ]
     },
     "execution_count": 270,
     "metadata": {},
     "output_type": "execute_result"
    },
    {
     "data": {
      "image/png": "[encoded data removed]",
      "text/plain": [
       "<Figure size 720x216 with 2 Axes>"
      ]
     },
     "metadata": {
      "needs_background": "light"
     },
     "output_type": "display_data"
    }
   ],
   "source": [
    "i = 5\n",
    "endy = 1050+50*i\n",
    "\n",
    "f, (ax2, ax1) = plt.subplots(1, 2, sharey=True, figsize = (10, 3))\n",
    "\n",
    "\n",
    "ax1.plot(range(50, endy-50), y[50:endy-50])\n",
    "ax1.plot(range(endy-50, endy), y[endy-50:endy])\n",
    "ax1.set_title(\"Real 1-year ONI value\")\n",
    "ax1.set_xlim(0, 1500)\n",
    "\n",
    "ax2.plot(predictions[i][50:][:-50])\n",
    "ax2.plot(predictions[i][50:][-50:])\n",
    "ax2.set_title(\"Predicted 1-year ONI value\")\n",
    "ax2.set_xlim(0, 1500)"
   ]
  },
  {
   "cell_type": "code",
   "execution_count": null,
   "metadata": {},
   "outputs": [],
   "source": []
  },
  {
   "cell_type": "code",
   "execution_count": 277,
   "metadata": {},
   "outputs": [
    {
     "data": {
      "text/plain": [
       "-0.552525009027468"
      ]
     },
     "execution_count": 277,
     "metadata": {},
     "output_type": "execute_result"
    }
   ],
   "source": [
    "r2_score(y[1000:2400], predictions_compliled)"
   ]
  },
  {
   "cell_type": "code",
   "execution_count": null,
   "metadata": {},
   "outputs": [],
   "source": []
  },
  {
   "cell_type": "code",
   "execution_count": null,
   "metadata": {},
   "outputs": [],
   "source": []
  },
  {
   "cell_type": "code",
   "execution_count": null,
   "metadata": {},
   "outputs": [],
   "source": []
  },
  {
   "cell_type": "code",
   "execution_count": null,
   "metadata": {},
   "outputs": [],
   "source": []
  },
  {
   "cell_type": "code",
   "execution_count": null,
   "metadata": {},
   "outputs": [],
   "source": []
  },
  {
   "cell_type": "code",
   "execution_count": null,
   "metadata": {},
   "outputs": [],
   "source": []
  },
  {
   "cell_type": "code",
   "execution_count": null,
   "metadata": {},
   "outputs": [],
   "source": []
  },
  {
   "cell_type": "code",
   "execution_count": null,
   "metadata": {},
   "outputs": [],
   "source": [
    "'''\n",
    "TODO\n",
    "Average whole ocean, ignoring missing values to start.\n",
    "\n",
    "Linear regression!\n",
    "Time-series problem first.\n",
    "\n",
    "Then- use each buoy as a feature, also mask.\n",
    "\n",
    "Need which features are most informative.\n",
    "\n",
    "NNs- start with vanilla NN, then after that's going, can start with RNN or \n",
    "\n",
    "'''\n",
    "\n"
   ]
  },
  {
   "cell_type": "code",
   "execution_count": null,
   "metadata": {},
   "outputs": [],
   "source": [
    "import seaborn as sns\n",
    "i=0\n",
    "file = 0\n",
    "xlabels = files_we_use[file]['lon'][:].data\n",
    "ylabels = files_we_use[file]['lat'][:].data\n",
    "\n",
    "plot1 = np.array(coef_plots[i]).reshape(dims_type[i][1], dims_type[i][2])\n",
    "\n",
    "myplot = sns.heatmap(plot1, xticklabels=xlabels, yticklabels=ylabels)\n",
    "myplot.set(xlabel = \"Longitude(W)\", ylabel = \"Latitude\")"
   ]
  },
  {
   "cell_type": "code",
   "execution_count": null,
   "metadata": {},
   "outputs": [],
   "source": [
    "files_we_use[0].variables"
   ]
  },
  {
   "cell_type": "code",
   "execution_count": null,
   "metadata": {},
   "outputs": [],
   "source": []
  }
 ],
 "metadata": {
  "kernelspec": {
   "display_name": "Python [conda env:metis] *",
   "language": "python",
   "name": "conda-env-metis-py"
  },
  "language_info": {
   "codemirror_mode": {
    "name": "ipython",
    "version": 3
   },
   "file_extension": ".py",
   "mimetype": "text/x-python",
   "name": "python",
   "nbconvert_exporter": "python",
   "pygments_lexer": "ipython3",
   "version": "3.8.5"
  }
 },
 "nbformat": 4,
 "nbformat_minor": 4
}
