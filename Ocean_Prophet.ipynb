{
 "cells": [
  {
   "cell_type": "code",
   "execution_count": 1,
   "metadata": {},
   "outputs": [],
   "source": [
    "import netCDF4 as nc\n",
    "import os\n",
    "import numpy as np\n",
    "import julian\n",
    "import numpy.ma as ma"
   ]
  },
  {
   "cell_type": "markdown",
   "metadata": {},
   "source": [
    "Todo list:\n",
    "- Moving average- have 'noise' from last year. \n",
    "- Improve ONI to 3.4 region\n",
    "- Try neural net\n",
    "- Try RNN"
   ]
  },
  {
   "cell_type": "code",
   "execution_count": null,
   "metadata": {},
   "outputs": [],
   "source": []
  },
  {
   "cell_type": "code",
   "execution_count": 2,
   "metadata": {},
   "outputs": [
    {
     "name": "stdout",
     "output_type": "stream",
     "text": [
      "sst_anom\n",
      "['README_sst.txt', 'sst_anom_0n110w_5day.cdf', 'sst_anom_0n156e_5day.cdf', 'read_netcdf.f', 'sst_anom_0n165e_5day.cdf']\n",
      "17\n"
     ]
    }
   ],
   "source": [
    "import subprocess\n",
    "\n",
    "for subfolder in os.listdir('data'):\n",
    "    if subfolder.find(\".\")<0 :\n",
    "        contents = os.listdir(\"data/\" +subfolder)\n",
    "        print(subfolder)\n",
    "        print(contents[0:5])\n",
    "        print(len(contents))\n",
    "        if len(contents) <5:\n",
    "            #identify the file\n",
    "            target = 0\n",
    "            for i,x in enumerate(contents):\n",
    "                if x.find(\".tar\")>0:\n",
    "                    target=i\n",
    "            os.system(\"tar -xvf data/\"+subfolder+\"/'\"+contents[target]+\"' -C data/\"+subfolder)\n",
    "        contents = os.listdir(\"data/\" +subfolder)\n",
    "        if sum([i.find(\".cdf.gz\")>0 for i in contents])>0:\n",
    "            os.system(\"gunzip data/\"+subfolder+\"/*.gz\")"
   ]
  },
  {
   "cell_type": "code",
   "execution_count": 3,
   "metadata": {},
   "outputs": [],
   "source": [
    "path_to_anomaly = \"data/sst_anom\"\n",
    "path = path_to_anomaly\n",
    "anomaly_files = [path+\"/\" + file for file in os.listdir(path) if file.find(\".cdf\")>0]"
   ]
  },
  {
   "cell_type": "code",
   "execution_count": 4,
   "metadata": {},
   "outputs": [],
   "source": [
    "from netCDF4 import MFDataset\n",
    "from netCDF4 import Dataset\n",
    "\n",
    "anomalies = [f for f in anomaly_files if f.find(\"anom_\")>0]\n",
    "\n",
    "anom_datasets = [Dataset(c) for c in anomalies]\n",
    "bound1 = 360-110+1\n",
    "bound2 = 360-170-1\n",
    "anom_datasets[0]['lon'][0].data, anom_datasets[1]['lon'][0].data, anomalies\n",
    "longitudes = np.array([c['lon'][0].data for c in anom_datasets])\n",
    "\n",
    "anomalies_filtered = list(np.array(anomalies)[(longitudes <bound1) & (longitudes > bound2)])\n",
    "\n",
    "\n",
    "\n",
    "anomalies_ds = MFDataset(anomalies_filtered, aggdim = 'time')"
   ]
  },
  {
   "cell_type": "code",
   "execution_count": 5,
   "metadata": {},
   "outputs": [
    {
     "data": {
      "text/plain": [
       "(2444306, 2459151)"
      ]
     },
     "execution_count": 5,
     "metadata": {},
     "output_type": "execute_result"
    }
   ],
   "source": [
    "times_set = set(anomalies_ds['time'][:])\n",
    "times = anomalies_ds['time'][:]\n",
    "T_25 = anomalies_ds['T_25'][:]\n",
    "times[0], times[-1]"
   ]
  },
  {
   "cell_type": "code",
   "execution_count": null,
   "metadata": {},
   "outputs": [],
   "source": [
    "\n"
   ]
  },
  {
   "cell_type": "code",
   "execution_count": 6,
   "metadata": {},
   "outputs": [],
   "source": [
    "all_times = np.array(sorted(times_set))\n",
    "dates = np.array([julian.from_jd(t, 'jd') for t in all_times])\n",
    "month_key = [(d.year, d.month) for d in dates]\n",
    "month_key_unique = sorted(set(month_key))"
   ]
  },
  {
   "cell_type": "code",
   "execution_count": 7,
   "metadata": {},
   "outputs": [
    {
     "name": "stderr",
     "output_type": "stream",
     "text": [
      "/home/solomon/anaconda3/envs/metis/lib/python3.8/site-packages/numpy/core/fromnumeric.py:3372: RuntimeWarning: Mean of empty slice.\n",
      "  return _methods._mean(a, axis=axis, dtype=dtype,\n",
      "/home/solomon/anaconda3/envs/metis/lib/python3.8/site-packages/numpy/core/_methods.py:170: RuntimeWarning: invalid value encountered in double_scalars\n",
      "  ret = ret.dtype.type(ret / rcount)\n"
     ]
    }
   ],
   "source": [
    "#Process:\n",
    "'''\n",
    "For each label in month_key_unique, get it and the previous two keys.\n",
    "'''\n",
    "running_averages = []\n",
    "for i in range(2, len(month_key_unique)):    \n",
    "    months = [month_key_unique[i-j] for j in range(3)]\n",
    "    mask = [m in months for m in month_key]\n",
    "    time_window = set(all_times[mask])\n",
    "    include = [t in time_window for t in times]\n",
    "    to_average = [T_25[i] for i in range(len(T_25)) if include[i] and T_25[i]<1e10]\n",
    "    running_averages.append(np.mean(to_average))\n",
    "running_averages = np.array(running_averages)"
   ]
  },
  {
   "cell_type": "code",
   "execution_count": 8,
   "metadata": {},
   "outputs": [
    {
     "data": {
      "text/plain": [
       "['data/wdir_xyt_5day.cdf',\n",
       " 'data/sss_xyt_5day.cdf',\n",
       " 'data/rh_xyt_5day.cdf',\n",
       " 'data/t_xyzt_5day_100.cdf',\n",
       " 'data/cur_xyzt_5day.cdf',\n",
       " 'data/sst_anom_xyt_5day.cdf',\n",
       " 'data/vwnd_xyt_5day.cdf',\n",
       " 'data/bp_xyt_5day.cdf',\n",
       " 'data/wspd_xyt_5day.cdf',\n",
       " 'data/sst_xyt_5day.cdf',\n",
       " 'data/t_xyzt_5day_500.cdf',\n",
       " 'data/uwnd_xyt_5day.cdf',\n",
       " 'data/airt_xyt_5day.cdf',\n",
       " 'data/t_xyzt_5day_300.cdf']"
      ]
     },
     "execution_count": 8,
     "metadata": {},
     "output_type": "execute_result"
    }
   ],
   "source": [
    "data_items = {}\n",
    "for subfolder in os.listdir('data'):\n",
    "    if subfolder.find(\".cdf\")>0:\n",
    "        if subfolder.find(\"anom\")<10000:\n",
    "            path = \"data/\"+subfolder\n",
    "\n",
    "            d = Dataset(path)\n",
    "            dims = d.dimensions\n",
    "            vals = d.variables.keys()\n",
    "            values = {k:d[k][:] for k in vals}\n",
    "            data_items[subfolder]=values\n",
    "cdf_files = [\"data/\" + file for file in os.listdir(\"data\") if file.find(\".cdf\")>0]\n",
    "data_files = [Dataset(c) for c in cdf_files]\n",
    "cdf_files"
   ]
  },
  {
   "cell_type": "code",
   "execution_count": 9,
   "metadata": {},
   "outputs": [],
   "source": [
    "#Data requirements:\n",
    "#All sites in one file\n",
    "#One variable\n",
    "#Select all sites\n",
    "#Netcdf, 4 byte, julian\n",
    "#1979, Jan 20.\n",
    "#5-day"
   ]
  },
  {
   "cell_type": "code",
   "execution_count": 10,
   "metadata": {},
   "outputs": [
    {
     "name": "stderr",
     "output_type": "stream",
     "text": [
      "<ipython-input-10-e4cb28bdfdd5>:5: VisibleDeprecationWarning: Creating an ndarray from ragged nested sequences (which is a list-or-tuple of lists-or-tuples-or ndarrays with different lengths or shapes) is deprecated. If you meant to do this, you must specify 'dtype=object' when creating the ndarray\n",
      "  fixed_times = [d['time'][:] for d in data_files]+mod_\n"
     ]
    }
   ],
   "source": [
    "fills = np.array([d['time'][:].fill_value for d in data_files])\n",
    "start_time = 2443895\n",
    "julian.from_jd(start_time, 'jd')\n",
    "mod_ = start_time*(fills > 1e10)\n",
    "fixed_times = [d['time'][:] for d in data_files]+mod_\n",
    "to_find = 2450000\n",
    "finding_values = [list(np.array(d)>to_find).index(True) for d in fixed_times]\n",
    "#Check if it's less than 0 to see if it's 'missing'"
   ]
  },
  {
   "cell_type": "code",
   "execution_count": 11,
   "metadata": {},
   "outputs": [],
   "source": [
    "def find_data_indices(date, arrays=fixed_times):\n",
    "    return [list(np.array(d)>date).index(True) for d in arrays]"
   ]
  },
  {
   "cell_type": "code",
   "execution_count": 12,
   "metadata": {},
   "outputs": [
    {
     "data": {
      "text/plain": [
       "['data/wdir_xyt_5day.cdf',\n",
       " 'data/sss_xyt_5day.cdf',\n",
       " 'data/rh_xyt_5day.cdf',\n",
       " 'data/t_xyzt_5day_100.cdf',\n",
       " 'data/cur_xyzt_5day.cdf',\n",
       " 'data/sst_anom_xyt_5day.cdf',\n",
       " 'data/vwnd_xyt_5day.cdf',\n",
       " 'data/bp_xyt_5day.cdf',\n",
       " 'data/wspd_xyt_5day.cdf',\n",
       " 'data/sst_xyt_5day.cdf',\n",
       " 'data/t_xyzt_5day_500.cdf',\n",
       " 'data/uwnd_xyt_5day.cdf',\n",
       " 'data/airt_xyt_5day.cdf',\n",
       " 'data/t_xyzt_5day_300.cdf']"
      ]
     },
     "execution_count": 12,
     "metadata": {},
     "output_type": "execute_result"
    }
   ],
   "source": [
    "#Okay. I've got it all on the same scale. Next step- getting a specific day.\n",
    "cdf_files"
   ]
  },
  {
   "cell_type": "code",
   "execution_count": 13,
   "metadata": {},
   "outputs": [
    {
     "data": {
      "text/plain": [
       "[719, 0, 8, 800, 791, 719, 719, 0, 719, 719, 800, 719, 718, 800]"
      ]
     },
     "execution_count": 13,
     "metadata": {},
     "output_type": "execute_result"
    }
   ],
   "source": [
    "\n",
    "starting_point = 800\n",
    "\n",
    "start_x = find_data_indices(all_times[starting_point])\n",
    "#What files to use?\n",
    "start_x"
   ]
  },
  {
   "cell_type": "code",
   "execution_count": 14,
   "metadata": {},
   "outputs": [],
   "source": [
    "file_names = [\"data/cur_xyzt_5day.cdf\", \"data/vwnd_xyt_5day.cdf\", \"data/sst_xyt_5day.cdf\",\n",
    "              \"data/uwnd_xyt_5day.cdf\", \"data/rh_xyt_5day.cdf\", \"data/airt_xyt_5day.cdf\"]"
   ]
  },
  {
   "cell_type": "code",
   "execution_count": 15,
   "metadata": {},
   "outputs": [
    {
     "data": {
      "text/plain": [
       "[False,\n",
       " False,\n",
       " True,\n",
       " False,\n",
       " True,\n",
       " False,\n",
       " True,\n",
       " False,\n",
       " False,\n",
       " True,\n",
       " False,\n",
       " True,\n",
       " True,\n",
       " False]"
      ]
     },
     "execution_count": 15,
     "metadata": {},
     "output_type": "execute_result"
    }
   ],
   "source": [
    "features_select = [i in file_names for i in cdf_files]\n",
    "features_select"
   ]
  },
  {
   "cell_type": "code",
   "execution_count": 16,
   "metadata": {},
   "outputs": [
    {
     "data": {
      "text/plain": [
       "array([  8, 791, 719, 719, 719, 718])"
      ]
     },
     "execution_count": 16,
     "metadata": {},
     "output_type": "execute_result"
    }
   ],
   "source": [
    "#sanity check, should be >0\n",
    "np.array(start_x)[features_select]"
   ]
  },
  {
   "cell_type": "code",
   "execution_count": null,
   "metadata": {},
   "outputs": [],
   "source": []
  },
  {
   "cell_type": "code",
   "execution_count": 17,
   "metadata": {},
   "outputs": [
    {
     "name": "stdout",
     "output_type": "stream",
     "text": [
      "data/rh_xyt_5day.cdf dict_keys(['time', 'time2', 'depth', 'lat', 'lon', 'RH_910', 'QRH_5910', 'SRH_6910'])\n",
      "data/cur_xyzt_5day.cdf dict_keys(['lon', 'lat', 'depth', 'time2', 'time', 'U_320', 'V_321', 'S_300', 'D_310', 'QS_5300', 'QD_5310', 'SRC_6300'])\n",
      "data/vwnd_xyt_5day.cdf dict_keys(['time', 'time2', 'depth', 'lat', 'lon', 'WV_423', 'QWV_5423', 'SWV_6423'])\n",
      "data/sst_xyt_5day.cdf dict_keys(['time', 'time2', 'depth', 'lat', 'lon', 'T_20', 'QT_5020', 'ST_6020'])\n",
      "data/uwnd_xyt_5day.cdf dict_keys(['time', 'time2', 'depth', 'lat', 'lon', 'WU_422', 'QWU_5422', 'SWU_6422'])\n",
      "data/airt_xyt_5day.cdf dict_keys(['time', 'time2', 'depth', 'lat', 'lon', 'AT_21', 'QAT_5021', 'SAT_6021'])\n"
     ]
    },
    {
     "data": {
      "text/plain": [
       "1"
      ]
     },
     "execution_count": 17,
     "metadata": {},
     "output_type": "execute_result"
    }
   ],
   "source": [
    "to_use = np.array(data_files)[features_select]\n",
    "files_used = np.array(cdf_files)[features_select]\n",
    "[print(f, k.variables.keys()) for k, f in list(zip(to_use, files_used))]\n",
    "1"
   ]
  },
  {
   "cell_type": "code",
   "execution_count": 18,
   "metadata": {},
   "outputs": [],
   "source": [
    "variables_we_want = [[\"RH_910\"], ['U_320', 'V_321'], ['WV_423'], ['T_20'], ['WU_422'], [\"AT_21\"]]\n",
    "var_names = flat_list = [item for sublist in variables_we_want for item in sublist]"
   ]
  },
  {
   "cell_type": "code",
   "execution_count": 19,
   "metadata": {},
   "outputs": [],
   "source": [
    "s_x = np.array(start_x)[features_select]"
   ]
  },
  {
   "cell_type": "code",
   "execution_count": 20,
   "metadata": {},
   "outputs": [],
   "source": [
    "end_index = 2250\n",
    "def process_ds(dataset, start_t_index, variables):\n",
    "    #Start_T is an index.\n",
    "    to_return = []\n",
    "    for v in variables:\n",
    "        if v == 'U_320' or v=='V_321':\n",
    "            vals = dataset[v][:,:,(2,),start_t_index:end_index+start_t_index]\n",
    "            to_return.append(np.transpose(vals, [3, 2, 0, 1]))\n",
    "        else:\n",
    "            to_return.append(dataset[v][start_t_index:end_index+start_t_index, :])\n",
    "    return to_return\n",
    "\n",
    "ds_array = [process_ds(to_use[i], s_x[i], v) for i,v in enumerate(variables_we_want)]\n",
    "\n",
    "flattened_vars = [ma.masked_greater(item, 1e10) for sublist in ds_array for item in sublist]\n",
    "max_len = max([len(i) for i in flattened_vars])"
   ]
  },
  {
   "cell_type": "code",
   "execution_count": null,
   "metadata": {
    "scrolled": true
   },
   "outputs": [],
   "source": []
  },
  {
   "cell_type": "code",
   "execution_count": 21,
   "metadata": {
    "scrolled": true
   },
   "outputs": [
    {
     "name": "stdout",
     "output_type": "stream",
     "text": [
      "RH_910\n",
      "U_320\n",
      "V_321\n",
      "WV_423\n",
      "T_20\n",
      "WU_422\n",
      "AT_21\n",
      "2250\n"
     ]
    }
   ],
   "source": [
    "vals = [[0] for i in range(max_len)]\n",
    "dims_type = []\n",
    "buoys = []\n",
    "for i, dtype in enumerate(flattened_vars):\n",
    "    print(var_names[i])\n",
    "    dtype_dims = dtype[0].shape\n",
    "    #print(dtype_dims)\n",
    "    dims_type.append(dtype_dims)\n",
    "    dims_type.append(dtype_dims)\n",
    "    \n",
    "    for j,timeslice in enumerate(dtype):\n",
    "        d = timeslice.shape\n",
    "        if d[0]!=dtype_dims[0] or d[1]!=dtype_dims[1] or d[2]!=dtype_dims[2]:\n",
    "            print(\"Uh oh\" + str(j))\n",
    "        \n",
    "        timeslice = dtype[j]\n",
    "        t_slice = list(np.ma.filled(timeslice, 0).reshape(1, -1)[0])\n",
    "        m_slice = list(timeslice.mask.reshape(1, -1)[0])\n",
    "        vals[j] += t_slice\n",
    "        vals[j] += m_slice\n",
    "\n",
    "#mean_variables = np.array([[means[v][t] for v in range(len(means))] for t in range(len(means[0]))])\n",
    "#mean_variables_masked = (mean_variables==1e10)*1\n",
    "#mean_variables[mean_variables==1e10]=0\n",
    "\n",
    "#Clearing out columns of all 0's. \n",
    "vals = np.array(vals)\n",
    "\n",
    "base_len = len(vals[0])\n",
    "lens = [len(v)==base_len for v in vals]\n",
    "print(len(vals))\n",
    "#vals = np.array(vals[lens])\n",
    "\n",
    "#Dropping NA values\n",
    "\n",
    "tokeep = []\n",
    "for i in range(len(vals[0])):\n",
    "    latlonslice = vals[:,i]\n",
    "    if min(latlonslice)==max(latlonslice):\n",
    "        tokeep.append(False)\n",
    "    else:\n",
    "        tokeep.append(True)\n",
    "\n",
    "X_ =vals[:, tokeep]\n"
   ]
  },
  {
   "cell_type": "code",
   "execution_count": 22,
   "metadata": {},
   "outputs": [
    {
     "data": {
      "text/plain": [
       "(2250, 1721)"
      ]
     },
     "execution_count": 22,
     "metadata": {},
     "output_type": "execute_result"
    }
   ],
   "source": [
    "vals.shape"
   ]
  },
  {
   "cell_type": "code",
   "execution_count": 23,
   "metadata": {},
   "outputs": [
    {
     "data": {
      "text/plain": [
       "[datetime.datetime(1990, 1, 6, 12, 0),\n",
       " datetime.datetime(1990, 1, 11, 12, 0),\n",
       " datetime.datetime(1990, 1, 16, 12, 0),\n",
       " datetime.datetime(1990, 1, 21, 12, 0),\n",
       " datetime.datetime(1990, 1, 26, 12, 0)]"
      ]
     },
     "execution_count": 23,
     "metadata": {},
     "output_type": "execute_result"
    }
   ],
   "source": [
    "#Generate target variable. \n",
    "start_y = starting_point \n",
    "ONIs = []\n",
    "#filt_ONI = []\n",
    "for time in all_times[start_y:]:\n",
    "    mask = times==time\n",
    "    ONI = np.mean(T_25[mask])\n",
    "#     if ONI is ma.masked:\n",
    "#         filt_ONI.append(False)\n",
    "#     else:\n",
    "#         filt_ONI.append(True)\n",
    "    ONIs.append(ONI)\n",
    "date_times = [julian.from_jd(t) for t in all_times[start_y:]]\n",
    "date_times[0:5]"
   ]
  },
  {
   "cell_type": "code",
   "execution_count": null,
   "metadata": {},
   "outputs": [],
   "source": []
  },
  {
   "cell_type": "code",
   "execution_count": 24,
   "metadata": {},
   "outputs": [],
   "source": [
    "import pandas as pd\n",
    "from sklearn.metrics import r2_score\n",
    "from sklearn.metrics import mean_absolute_error\n",
    "from sklearn.linear_model import LinearRegression\n",
    "from sklearn.linear_model import Ridge\n",
    "from sklearn.linear_model import Lasso\n",
    "from sklearn.preprocessing import StandardScaler\n",
    "from sklearn.model_selection import train_test_split\n",
    "\n",
    "import matplotlib.pyplot as plt\n",
    "\n",
    "from fbprophet import Prophet\n",
    "\n",
    "\n",
    "\n",
    "delays = [95, 185, 275, 365]\n",
    "delay = delays[0]\n",
    "\n",
    "\n",
    "\n",
    "def generate_XY(delays = 365, X_ = X_, y_ = ONIs, datetimes = date_times, skip_initial = 500):\n",
    "    delay_index = delay//5\n",
    "    y = y_[delay_index:]\n",
    "    X = np.array(X_[0:len(y)])\n",
    "    y = y[:len(X)]\n",
    "    y = np.array(y[skip_initial:])\n",
    "    dt = date_times[:len(X)][skip_initial:]\n",
    "    \n",
    "    x_names = var_names + [name+\"_mask\" for name in var_names]\n",
    "    X = pd.DataFrame(X[skip_initial:])#, columns=x_names)\n",
    "    return X,y, dt\n",
    "X,y,dt = generate_XY(73)\n",
    "\n",
    "#s = StandardScaler()\n",
    "#X= s.fit_transform(X)\n",
    "\n",
    "#X_model, X_validate, y_model, y_validate = train_test_split(X,y, test_size=0.25, random_state=42)\n",
    "#X_train, X_test, y_train, y_test = train_test_split(X_model,y_model, test_size=0.25, random_state=42)\n",
    "\n",
    "\n",
    "\n",
    "#X at day N, y at day N+90"
   ]
  },
  {
   "cell_type": "code",
   "execution_count": 25,
   "metadata": {},
   "outputs": [],
   "source": [
    "smooth_y = 6\n",
    "y_smoothed = [np.mean(y[i:i+smooth_y]) for i in range(len(y)-smooth_y)]\n",
    "y_used = y.copy()"
   ]
  },
  {
   "cell_type": "code",
   "execution_count": 26,
   "metadata": {},
   "outputs": [
    {
     "data": {
      "text/plain": [
       "1735"
      ]
     },
     "execution_count": 26,
     "metadata": {},
     "output_type": "execute_result"
    }
   ],
   "source": [
    "df_list = [[dt[i]]+[y_used[i]]+list(X.iloc[i]) for i in range(len(y_used))]\n",
    "df = pd.DataFrame(df_list)\n",
    "df.rename({0:\"ds\", 1:\"y\"}, axis=1, inplace=True)\n",
    "#df.set_index('ds', inplace=True)\n",
    "titles = [str(i) for i in df.columns[2:]]\n",
    "titles_renamer = {i:str(i) for i in df.columns[2:]}\n",
    "df.rename(titles_renamer, axis=1, inplace=True)\n",
    "len(df)"
   ]
  },
  {
   "cell_type": "code",
   "execution_count": 75,
   "metadata": {},
   "outputs": [],
   "source": [
    "train_size = 1000+73+73\n",
    "test_size = 73\n",
    "df_train = df[0:train_size]\n",
    "X_train = X[0:train_size]\n",
    "y_train = y[0:train_size]"
   ]
  },
  {
   "cell_type": "code",
   "execution_count": null,
   "metadata": {},
   "outputs": [],
   "source": []
  },
  {
   "cell_type": "code",
   "execution_count": 76,
   "metadata": {},
   "outputs": [
    {
     "name": "stderr",
     "output_type": "stream",
     "text": [
      "INFO:fbprophet:Disabling daily seasonality. Run prophet with daily_seasonality=True to override this.\n"
     ]
    },
    {
     "name": "stdout",
     "output_type": "stream",
     "text": [
      "CPU times: user 1min 21s, sys: 82.7 ms, total: 1min 21s\n",
      "Wall time: 1min 21s\n"
     ]
    },
    {
     "data": {
      "text/plain": [
       "<fbprophet.forecaster.Prophet at 0x7f93e1bf4880>"
      ]
     },
     "execution_count": 76,
     "metadata": {},
     "output_type": "execute_result"
    }
   ],
   "source": [
    "%%time\n",
    "p = Prophet()\n",
    "for i in titles:\n",
    "    p.add_regressor(i)\n",
    "p.fit(df_train)"
   ]
  },
  {
   "cell_type": "code",
   "execution_count": 77,
   "metadata": {},
   "outputs": [
    {
     "name": "stdout",
     "output_type": "stream",
     "text": [
      "CPU times: user 10.1 s, sys: 27.6 s, total: 37.7 s\n",
      "Wall time: 4.62 s\n"
     ]
    }
   ],
   "source": [
    "%%time\n",
    "future = df[train_size:test_size+train_size]\n",
    "predictions = p.predict(future)"
   ]
  },
  {
   "cell_type": "code",
   "execution_count": 78,
   "metadata": {},
   "outputs": [
    {
     "data": {
      "text/plain": [
       "<matplotlib.collections.LineCollection at 0x7f93e1a71190>"
      ]
     },
     "execution_count": 78,
     "metadata": {},
     "output_type": "execute_result"
    },
    {
     "data": {
      "image/png": "[encoded data removed]",
      "text/plain": [
       "<Figure size 640x480 with 1 Axes>"
      ]
     },
     "metadata": {},
     "output_type": "display_data"
    }
   ],
   "source": [
    "lookback = 74\n",
    "x_future = range(train_size, train_size+test_size)\n",
    "x_past = range(train_size-lookback, train_size+1)\n",
    "\n",
    "plt.plot(x_future, y_used[train_size:test_size+train_size])\n",
    "\n",
    "plt.fill_between(x_future, predictions.yhat_lower, predictions.yhat_upper, color=\"grey\", alpha=0.5)\n",
    "plt.plot(x_future, predictions.yhat, color=\"black\")\n",
    "\n",
    "plt.plot(x_past, y_used[train_size-lookback:train_size+1])\n",
    "mean_absolute_error(y[train_size:test_size+train_size], predictions[[\"yhat\"]])\n",
    "\n",
    "xticks_range = range(train_size-lookback, train_size+test_size, 73)\n",
    "xticks_year = [dt[i].year for i in xticks_range]\n",
    "plt.xticks(xticks_range, xticks_year);\n",
    "plt.yticks(range(-2, 4));\n",
    "\n",
    "plt.hlines([0.5, -0.5], train_size-lookback, train_size+test_size)"
   ]
  },
  {
   "cell_type": "code",
   "execution_count": 70,
   "metadata": {},
   "outputs": [
    {
     "data": {
      "text/plain": [
       "0.1475177465654477"
      ]
     },
     "execution_count": 70,
     "metadata": {},
     "output_type": "execute_result"
    }
   ],
   "source": [
    "r2_score(predictions.yhat, y_used[train_size:test_size+train_size])"
   ]
  },
  {
   "cell_type": "code",
   "execution_count": 69,
   "metadata": {},
   "outputs": [
    {
     "data": {
      "text/plain": [
       "<module 'matplotlib.pyplot' from '/home/solomon/anaconda3/envs/metis/lib/python3.8/site-packages/matplotlib/pyplot.py'>"
      ]
     },
     "execution_count": 69,
     "metadata": {},
     "output_type": "execute_result"
    },
    {
     "data": {
      "image/png": "[encoded data removed]",
      "text/plain": [
       "<Figure size 800x500 with 1 Axes>"
      ]
     },
     "metadata": {},
     "output_type": "display_data"
    }
   ],
   "source": [
    "import matplotlib\n",
    "\n",
    "matplotlib.style.use('default') \n",
    "font = {'size'   : 13}\n",
    "matplotlib.rc('font', **font)\n",
    "\n",
    "plt.figure(figsize=(8, 5))\n",
    "plt.plot(y_used)\n",
    "step = 73*5\n",
    "xticks_range = range(0, len(y_used), step)\n",
    "xticks_year = [dt[i].year for i in xticks_range]\n",
    "plt.xticks(xticks_range, xticks_year);\n",
    "plt.hlines([0.4, -0.4], -50, len(y)+50)\n",
    "plt"
   ]
  },
  {
   "cell_type": "code",
   "execution_count": null,
   "metadata": {},
   "outputs": [],
   "source": []
  },
  {
   "cell_type": "code",
   "execution_count": 32,
   "metadata": {
    "scrolled": true
   },
   "outputs": [],
   "source": [
    "import statsmodels.api as smt\n",
    "import statsmodels.tsa as sm\n",
    "\n",
    "def plots(data, lags=None):\n",
    "    layout = (1, 3)\n",
    "    raw  = plt.subplot2grid(layout, (0, 0))\n",
    "    acf  = plt.subplot2grid(layout, (0, 1))\n",
    "    pacf = plt.subplot2grid(layout, (0, 2))\n",
    "    \n",
    "    raw.plot(data)\n",
    "    smt.graphics.plot_acf(data, lags=lags, ax=acf)\n",
    "    smt.graphics.plot_pacf(data, lags=lags, ax=pacf)\n",
    "    sns.despine()\n",
    "    plt.tight_layout()"
   ]
  },
  {
   "cell_type": "code",
   "execution_count": 33,
   "metadata": {},
   "outputs": [],
   "source": [
    "import seaborn as sns\n",
    "import statsmodels.tsa.api as smt\n",
    "\n",
    "import warnings\n",
    "warnings.filterwarnings(\"ignore\")"
   ]
  },
  {
   "cell_type": "code",
   "execution_count": 34,
   "metadata": {},
   "outputs": [
    {
     "name": "stdout",
     "output_type": "stream",
     "text": [
      "CPU times: user 2 µs, sys: 1 µs, total: 3 µs\n",
      "Wall time: 4.05 µs\n"
     ]
    },
    {
     "data": {
      "text/plain": [
       "(1000, 50)"
      ]
     },
     "execution_count": 34,
     "metadata": {},
     "output_type": "execute_result"
    }
   ],
   "source": [
    "%%time\n",
    "1000, 50 \n",
    "\n",
    "\n",
    "#sar.summary()\n",
    "#plots(sar.resid, lags=40);\n",
    "#r2_score(y[1000:1100], sar2.predict(start=0, end=1100, exog = X[999:1050])[1000:1100])"
   ]
  },
  {
   "cell_type": "code",
   "execution_count": null,
   "metadata": {},
   "outputs": [],
   "source": []
  },
  {
   "cell_type": "code",
   "execution_count": 35,
   "metadata": {},
   "outputs": [],
   "source": [
    "def group_6_and_avg(a_list):\n",
    "    newlen = 6*(len(a_list)//6)\n",
    "    grouped_arrays = np.array(a_list[:newlen]).reshape(-1, 6)\n",
    "    return grouped_arrays.mean(axis=1)"
   ]
  },
  {
   "cell_type": "code",
   "execution_count": null,
   "metadata": {},
   "outputs": [],
   "source": []
  },
  {
   "cell_type": "code",
   "execution_count": 36,
   "metadata": {},
   "outputs": [],
   "source": [
    "#plt.plot(x_axis_grp, y_real_grp)\n",
    "#plt.plot(x_axis_grp, y_pred_grp)\n"
   ]
  },
  {
   "cell_type": "code",
   "execution_count": null,
   "metadata": {},
   "outputs": [],
   "source": []
  },
  {
   "cell_type": "code",
   "execution_count": null,
   "metadata": {},
   "outputs": [],
   "source": []
  },
  {
   "cell_type": "code",
   "execution_count": null,
   "metadata": {},
   "outputs": [],
   "source": []
  },
  {
   "cell_type": "code",
   "execution_count": null,
   "metadata": {},
   "outputs": [],
   "source": []
  },
  {
   "cell_type": "code",
   "execution_count": null,
   "metadata": {},
   "outputs": [],
   "source": []
  },
  {
   "cell_type": "code",
   "execution_count": null,
   "metadata": {},
   "outputs": [],
   "source": []
  },
  {
   "cell_type": "code",
   "execution_count": 37,
   "metadata": {},
   "outputs": [],
   "source": [
    "# #Doing it 50 at a time.\n",
    "# max_estimate = (len(X)//50)\n",
    "# predictions = []\n",
    "# sars = []\n",
    "# for i in 50*np.array(range(test_size//50, max_estimate)):\n",
    "#     predict_rng = i+50\n",
    "#     print(\"iteration:\" + str(i))\n",
    "#     X_train = X[0:i]\n",
    "#     y_train = y[0:i]\n",
    "#     X_exog = X[i-1:predict_rng]\n",
    "#     sar = sm.arima.model.ARIMA(y_train, X_train, order=(1, 1, 1)).fit()\n",
    "#     sars.append(sar)\n",
    "#     predictions.append(sar.predict(start = 0, end= predict_rng, exog = X_exog))"
   ]
  },
  {
   "cell_type": "code",
   "execution_count": 38,
   "metadata": {},
   "outputs": [],
   "source": [
    "import pickle\n",
    "pickle.dump(predictions, open(\"Prophet_Predictions.p\", \"wb\"))\n",
    "pickle.dump(p, open(\"Most_Recent_Prophet_Model.p\", \"wb\"))"
   ]
  },
  {
   "cell_type": "code",
   "execution_count": 39,
   "metadata": {},
   "outputs": [],
   "source": [
    "#predictions_compliled = np.concatenate([predict[-50:] for predict in predictions])"
   ]
  },
  {
   "cell_type": "code",
   "execution_count": 40,
   "metadata": {},
   "outputs": [],
   "source": [
    "# i = 5\n",
    "# endy = 1050+50*i\n",
    "\n",
    "# f, (ax2, ax1) = plt.subplots(1, 2, sharey=True, figsize = (10, 3))\n",
    "\n",
    "\n",
    "# ax1.plot(range(50, endy-50), y[50:endy-50])\n",
    "# ax1.plot(range(endy-50, endy), y[endy-50:endy])\n",
    "# ax1.set_title(\"Real 1-year ONI value\")\n",
    "# ax1.set_xlim(0, 1500)\n",
    "\n",
    "# ax2.plot(predictions[i][50:][:-50])\n",
    "# ax2.plot(predictions[i][50:][-50:])\n",
    "# ax2.set_title(\"Predicted 1-year ONI value\")\n",
    "# ax2.set_xlim(0, 1500)"
   ]
  },
  {
   "cell_type": "code",
   "execution_count": null,
   "metadata": {},
   "outputs": [],
   "source": []
  },
  {
   "cell_type": "code",
   "execution_count": 41,
   "metadata": {},
   "outputs": [
    {
     "ename": "NameError",
     "evalue": "name 'predictions_compliled' is not defined",
     "output_type": "error",
     "traceback": [
      "\u001b[0;31m---------------------------------------------------------------------------\u001b[0m",
      "\u001b[0;31mNameError\u001b[0m                                 Traceback (most recent call last)",
      "\u001b[0;32m<ipython-input-41-5767f71d8afa>\u001b[0m in \u001b[0;36m<module>\u001b[0;34m\u001b[0m\n\u001b[0;32m----> 1\u001b[0;31m \u001b[0mr2_score\u001b[0m\u001b[0;34m(\u001b[0m\u001b[0my\u001b[0m\u001b[0;34m[\u001b[0m\u001b[0;36m1000\u001b[0m\u001b[0;34m:\u001b[0m\u001b[0;36m2400\u001b[0m\u001b[0;34m]\u001b[0m\u001b[0;34m,\u001b[0m \u001b[0mpredictions_compliled\u001b[0m\u001b[0;34m)\u001b[0m\u001b[0;34m\u001b[0m\u001b[0;34m\u001b[0m\u001b[0m\n\u001b[0m",
      "\u001b[0;31mNameError\u001b[0m: name 'predictions_compliled' is not defined"
     ]
    }
   ],
   "source": [
    "r2_score(y[1000:2400], predictions_compliled)"
   ]
  },
  {
   "cell_type": "code",
   "execution_count": null,
   "metadata": {},
   "outputs": [],
   "source": []
  },
  {
   "cell_type": "code",
   "execution_count": null,
   "metadata": {},
   "outputs": [],
   "source": []
  },
  {
   "cell_type": "code",
   "execution_count": null,
   "metadata": {},
   "outputs": [],
   "source": []
  },
  {
   "cell_type": "code",
   "execution_count": null,
   "metadata": {},
   "outputs": [],
   "source": []
  },
  {
   "cell_type": "code",
   "execution_count": null,
   "metadata": {},
   "outputs": [],
   "source": []
  },
  {
   "cell_type": "code",
   "execution_count": null,
   "metadata": {},
   "outputs": [],
   "source": []
  },
  {
   "cell_type": "code",
   "execution_count": null,
   "metadata": {},
   "outputs": [],
   "source": []
  },
  {
   "cell_type": "code",
   "execution_count": null,
   "metadata": {},
   "outputs": [],
   "source": [
    "'''\n",
    "TODO\n",
    "Average whole ocean, ignoring missing values to start.\n",
    "\n",
    "Linear regression!\n",
    "Time-series problem first.\n",
    "\n",
    "Then- use each buoy as a feature, also mask.\n",
    "\n",
    "Need which features are most informative.\n",
    "\n",
    "NNs- start with vanilla NN, then after that's going, can start with RNN or \n",
    "\n",
    "'''\n",
    "\n"
   ]
  },
  {
   "cell_type": "code",
   "execution_count": null,
   "metadata": {},
   "outputs": [],
   "source": []
  },
  {
   "cell_type": "code",
   "execution_count": null,
   "metadata": {},
   "outputs": [],
   "source": []
  },
  {
   "cell_type": "code",
   "execution_count": null,
   "metadata": {},
   "outputs": [],
   "source": []
  }
 ],
 "metadata": {
  "kernelspec": {
   "display_name": "Python [conda env:metis] *",
   "language": "python",
   "name": "conda-env-metis-py"
  },
  "language_info": {
   "codemirror_mode": {
    "name": "ipython",
    "version": 3
   },
   "file_extension": ".py",
   "mimetype": "text/x-python",
   "name": "python",
   "nbconvert_exporter": "python",
   "pygments_lexer": "ipython3",
   "version": "3.8.5"
  }
 },
 "nbformat": 4,
 "nbformat_minor": 4
}
