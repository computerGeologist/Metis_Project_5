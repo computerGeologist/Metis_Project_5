{
 "cells": [
  {
   "cell_type": "code",
   "execution_count": 1,
   "metadata": {},
   "outputs": [],
   "source": [
    "import netCDF4 as nc\n",
    "import os\n",
    "import numpy as np\n",
    "import julian"
   ]
  },
  {
   "cell_type": "code",
   "execution_count": 2,
   "metadata": {},
   "outputs": [
    {
     "data": {
      "text/plain": [
       "'sst'"
      ]
     },
     "execution_count": 2,
     "metadata": {},
     "output_type": "execute_result"
    }
   ],
   "source": [
    "os.listdir('data')[0]"
   ]
  },
  {
   "cell_type": "code",
   "execution_count": 51,
   "metadata": {},
   "outputs": [
    {
     "name": "stdout",
     "output_type": "stream",
     "text": [
      "['sst0n147e_5day.cdf', 'sst8n155w_5day.cdf', 'README_sst.txt', 'sst8n137e_5day.cdf', 'sst5n180w_5day.cdf', 'sst8n170w_5day.cdf', 'sst5n125w_5day.cdf', 'sst8n95w_5day.cdf', 'sst2n110w_5day.cdf', 'sst0n155w_5day.cdf', 'sst2s156e_5day.cdf', 'sst2n155w_5day.cdf', 'sst5s110w_5day.cdf', 'sst2n156e_5day.cdf', 'sst8n125w_5day.cdf', 'sst2s95w_5day.cdf', 'sst5n165e_5day.cdf', 'sst8s110w_5day.cdf', 'sst2n137e_5day.cdf', 'sst2s155w_5day.cdf', 'sst5n140w_5day.cdf', 'sst2s110w_5day.cdf', 'sst8s155w_5day.cdf', 'sst2n147e_5day.cdf', 'sst5n156e_5day.cdf', 'sst9n140w_5day.cdf', 'sst5n170w_5day.cdf', 'sst2s140w_5day.cdf', 'sst2n125w_5day.cdf', 'sst2s165e_5day.cdf', 'sst7n137e_5day.cdf', 'data.tar.gz', 'sst8s165e_5day.cdf', 'sst2n180w_5day.cdf', 'sst5n95w_5day.cdf', 'sst0.7n110w_5day.cdf', 'sst5s165e_5day.cdf', 'sst8n165e_5day.cdf', 'sst0n170w_5day.cdf', 'sst5s95w_5day.cdf', 'sst0n180w_5day.cdf', 'sst0.7s110w_5day.cdf', 'sst0n110.5w_5day.cdf', 'sst5n147e_5day.cdf', '.ipynb_checkpoints', 'sst2s125w_5day.cdf', 'sst5s140w_5day.cdf', 'sst8n180w_5day.cdf', 'sst2n95w_5day.cdf', 'sst0n125w_5day.cdf', 'sst8s180w_5day.cdf', 'sst2s170w_5day.cdf', 'sst8s170w_5day.cdf', 'sst5s170w_5day.cdf', 'sst5n137e_5day.cdf', 'sst5n155w_5day.cdf', 'sst8n110w_5day.cdf', 'sst2n170w_5day.cdf', 'sst5s156e_5day.cdf', 'sst8n156e_5day.cdf', 'sst2s180w_5day.cdf', 'sst5n110w_5day.cdf', 'sst5s125w_5day.cdf', 'sst5s180w_5day.cdf', 'sst2n140w_5day.cdf', 'sst5s155w_5day.cdf', 'sst8s95w_5day.cdf', 'sst0n110w_5day.cdf', 'sst0n140w_5day.cdf', 'sst8s125w_5day.cdf', 'sst2n165e_5day.cdf', 'sst0n95w_5day.cdf', 'sst0n156e_5day.cdf', 'sst0n165e_5day.cdf']\n",
      "['data (1).tar']\n",
      "['data (2).tar']\n",
      "['bp8n156e_5day.cdf', 'bp0n110w_5day.cdf', 'bp5s95w_5day.cdf', 'bp5n137e_5day.cdf', 'bp2n147e_5day.cdf', 'bp8n95w_5day.cdf', 'bp8n137e_5day.cdf', 'bp0n140w_5day.cdf', 'bp2s156e_5day.cdf', 'bp5s156e_5day.cdf', 'bp5n95w_5day.cdf', 'bp2s110w_5day.cdf', 'bp2n156e_5day.cdf', 'bp0n147e_5day.cdf', 'bp8s95w_5day.cdf', 'bp0n156e_5day.cdf', 'bp2n95w_5day.cdf', 'bp2n110w_5day.cdf', 'bp5n156e_5day.cdf', 'bp5n147e_5day.cdf', 'bp0n170w_5day.cdf', 'README_bp.txt', 'bp0n165e_5day.cdf', 'bp2n137e_5day.cdf', 'bp2s95w_5day.cdf', 'bp0n95w_5day.cdf', 'data (3).tar']\n",
      "['README_sst.txt', 'sst_anom_0n110w_5day.cdf', 'sst_anom_0n156e_5day.cdf', 'read_netcdf.f', 'sst_anom_0n165e_5day.cdf', 'data.tar.gz', 'epstodate.html', 'sst_anom_0n155w_5day.cdf', 'sst_anom_0n180w_5day.cdf', 'sst_anom_0.7s110w_5day.cdf', 'sst_anom_0n125w_5day.cdf', 'sst_anom_0n140w_5day.cdf', 'sst_anom_0.7n110w_5day.cdf', 'sst_anom_0n110.5w_5day.cdf', 'sst_anom_0n170w_5day.cdf', 'sst_anom_0n95w_5day.cdf', 'sst_anom_0n147e_5day.cdf']\n",
      "['data.tar']\n"
     ]
    }
   ],
   "source": [
    "import subprocess\n",
    "\n",
    "for subfolder in os.listdir('data'):\n",
    "    contents = os.listdir(\"data/\" +subfolder)\n",
    "    print(contents)\n",
    "    if len(contents) == 1:\n",
    "        os.system('')"
   ]
  },
  {
   "cell_type": "code",
   "execution_count": 54,
   "metadata": {},
   "outputs": [],
   "source": [
    "path_test = 'data/sst'+\"/\"+os.listdir('data/sst')[0]\n",
    "test = nc.Dataset(path_test)"
   ]
  },
  {
   "cell_type": "code",
   "execution_count": 55,
   "metadata": {},
   "outputs": [
    {
     "data": {
      "text/plain": [
       "<class 'netCDF4._netCDF4.Dataset'>\n",
       "root group (NETCDF3_CLASSIC data model, file format NETCDF3):\n",
       "    platform_code: 0n147e\n",
       "    site_code: 0n147e\n",
       "    wmo_platform_code: 52318\n",
       "    array: TAO/TRITON\n",
       "    Request_for_acknowledgement: If you use these data in publications or presentations, please acknowledge the GTMBA Project Office of NOAA/PMEL. Also, we would appreciate receiving a preprint and/or reprint of publications utilizing the data for inclusion in our bibliography. Relevant publications should be sent to: GTMBA Project Office, NOAA/Pacific Marine Environmental Laboratory, 7600 Sand Point Way NE, Seattle, WA 98115\n",
       "    Data_Source: Global Tropical Moored Buoy Array Project Office/NOAA/PMEL\n",
       "    File_info: Contact: Dai.C.McClurg@noaa.gov\n",
       "    missing_value: 1e+35\n",
       "    _FillValue: 1e+35\n",
       "    CREATION_DATE: 14:59 19-NOV-2020\n",
       "    dimensions(sizes): time(1651), depth(1), lat(1), lon(1)\n",
       "    variables(dimensions): float32 time(time), float32 depth(depth), float32 lat(lat), float32 lon(lon), float32 T_25(time, depth, lat, lon), float32 QT_5025(time, depth, lat, lon)\n",
       "    groups: "
      ]
     },
     "execution_count": 55,
     "metadata": {},
     "output_type": "execute_result"
    }
   ],
   "source": [
    "test"
   ]
  },
  {
   "cell_type": "code",
   "execution_count": 6,
   "metadata": {},
   "outputs": [
    {
     "data": {
      "text/plain": [
       "dict_keys(['time', 'depth', 'lat', 'lon', 'T_25', 'QT_5025'])"
      ]
     },
     "execution_count": 6,
     "metadata": {},
     "output_type": "execute_result"
    }
   ],
   "source": [
    "test.variables.keys()"
   ]
  },
  {
   "cell_type": "code",
   "execution_count": 7,
   "metadata": {},
   "outputs": [],
   "source": [
    "path_to_sst = \"data/sst\"\n",
    "path = path_to_sst\n",
    "sst_files = [path+\"/\" + file for file in os.listdir(path) if file.find(\".cdf\")>0]"
   ]
  },
  {
   "cell_type": "code",
   "execution_count": 8,
   "metadata": {},
   "outputs": [],
   "source": [
    "path_to_anomaly = \"data/sst_anom\"\n",
    "path = path_to_anomaly\n",
    "anomaly_files = [path+\"/\" + file for file in os.listdir(path) if file.find(\".cdf\")>0]"
   ]
  },
  {
   "cell_type": "code",
   "execution_count": 9,
   "metadata": {},
   "outputs": [
    {
     "data": {
      "text/plain": [
       "['data/sst_anom/sst_anom_0.7n110w_5day.cdf',\n",
       " 'data/sst_anom/sst_anom_0.7s110w_5day.cdf',\n",
       " 'data/sst_anom/sst_anom_0n110.5w_5day.cdf',\n",
       " 'data/sst_anom/sst_anom_0n110w_5day.cdf',\n",
       " 'data/sst_anom/sst_anom_0n125w_5day.cdf',\n",
       " 'data/sst_anom/sst_anom_0n140w_5day.cdf',\n",
       " 'data/sst_anom/sst_anom_0n147e_5day.cdf',\n",
       " 'data/sst_anom/sst_anom_0n155w_5day.cdf',\n",
       " 'data/sst_anom/sst_anom_0n156e_5day.cdf',\n",
       " 'data/sst_anom/sst_anom_0n165e_5day.cdf',\n",
       " 'data/sst_anom/sst_anom_0n170w_5day.cdf',\n",
       " 'data/sst_anom/sst_anom_0n180w_5day.cdf',\n",
       " 'data/sst_anom/sst_anom_0n95w_5day.cdf']"
      ]
     },
     "execution_count": 9,
     "metadata": {},
     "output_type": "execute_result"
    }
   ],
   "source": [
    "sorted(anomaly_files)"
   ]
  },
  {
   "cell_type": "code",
   "execution_count": 10,
   "metadata": {},
   "outputs": [
    {
     "data": {
      "text/plain": [
       "<class 'netCDF4._netCDF4.MFDataset'>\n",
       "root group (NETCDF3_CLASSIC data model, file format NETCDF3):\n",
       "    platform_code: 0n110w\n",
       "    site_code: 0n110w\n",
       "    wmo_platform_code: 32323\n",
       "    array: TAO/TRITON\n",
       "    Request_for_acknowledgement: If you use these data in publications or presentations, please acknowledge the GTMBA Project Office of NOAA/PMEL. Also, we would appreciate receiving a preprint and/or reprint of publications utilizing the data for inclusion in our bibliography. Relevant publications should be sent to: GTMBA Project Office, NOAA/Pacific Marine Environmental Laboratory, 7600 Sand Point Way NE, Seattle, WA 98115\n",
       "    Data_Source: Global Tropical Moored Buoy Array Project Office/NOAA/PMEL\n",
       "    File_info: Contact: Dai.C.McClurg@noaa.gov\n",
       "    missing_value: 1e+35\n",
       "    _FillValue: 1e+35\n",
       "    CREATION_DATE: 16:34 20-NOV-2020\n",
       "    dimensions = ('time', 'depth', 'lat', 'lon')\n",
       "    variables = ('time', 'time2', 'depth', 'lat', 'lon', 'T_25', 'QT_5025')\n",
       "    groups = ()"
      ]
     },
     "execution_count": 10,
     "metadata": {},
     "output_type": "execute_result"
    }
   ],
   "source": [
    "anomalies = [f for f in anomaly_files if f.find(\"anom_\")>0]\n",
    "from netCDF4 import MFDataset\n",
    "anomalies_ds = MFDataset(anomalies, aggdim = 'time')\n",
    "anomalies_ds"
   ]
  },
  {
   "cell_type": "code",
   "execution_count": 11,
   "metadata": {},
   "outputs": [
    {
     "data": {
      "text/plain": [
       "(2444306, 2457730)"
      ]
     },
     "execution_count": 11,
     "metadata": {},
     "output_type": "execute_result"
    }
   ],
   "source": [
    "times_set = set(anomalies_ds['time'][:])\n",
    "times = anomalies_ds['time'][:]\n",
    "T_25 = anomalies_ds['T_25'][:]\n",
    "times[0], times[-1]"
   ]
  },
  {
   "cell_type": "code",
   "execution_count": 12,
   "metadata": {},
   "outputs": [
    {
     "data": {
      "text/plain": [
       "{'time': <class 'netCDF4._netCDF4._Variable'>\n",
       " int32 time('time',)\n",
       "     FORTRAN_format: \n",
       "     units: True Julian Day\n",
       "     type: UNEVEN\n",
       "     epic_code: 624\n",
       "     point_spacing: uneven\n",
       " unlimited dimensions = ('time',)\n",
       " current size = (24436,),\n",
       " 'time2': <class 'netCDF4._netCDF4._Variable'>\n",
       " int32 time2('time',)\n",
       "     FORTRAN_format: \n",
       "     units: msec since 0:00 GMT\n",
       "     type: UNEVEN\n",
       "     epic_code: 624\n",
       " unlimited dimensions = ('time',)\n",
       " current size = (24436,),\n",
       " 'depth': <class 'netCDF4._netCDF4.Variable'>\n",
       " float32 depth(depth)\n",
       "     FORTRAN_format: \n",
       "     units: m\n",
       "     type: EVEN\n",
       "     epic_code: 3\n",
       " unlimited dimensions: \n",
       " current shape = (1,)\n",
       " filling on, default _FillValue of 9.969209968386869e+36 used,\n",
       " 'lat': <class 'netCDF4._netCDF4.Variable'>\n",
       " float32 lat(lat)\n",
       "     FORTRAN_format: \n",
       "     units: degree_north\n",
       "     type: EVEN\n",
       "     epic_code: 500\n",
       " unlimited dimensions: \n",
       " current shape = (1,)\n",
       " filling on, default _FillValue of 9.969209968386869e+36 used,\n",
       " 'lon': <class 'netCDF4._netCDF4.Variable'>\n",
       " float32 lon(lon)\n",
       "     FORTRAN_format: \n",
       "     units: degree_east\n",
       "     type: EVEN\n",
       "     epic_code: 502\n",
       " unlimited dimensions: \n",
       " current shape = (1,)\n",
       " filling on, default _FillValue of 9.969209968386869e+36 used,\n",
       " 'T_25': <class 'netCDF4._netCDF4._Variable'>\n",
       " float32 T_25('time', 'depth', 'lat', 'lon')\n",
       "     name: T\n",
       "     long_name: SST (C)\n",
       "     generic_name: temp\n",
       "     FORTRAN_format:  \n",
       "     units: C\n",
       "     epic_code: 25\n",
       "     missing_value: 1e+35\n",
       "     _FillValue: 1e+35\n",
       " unlimited dimensions = ('time',)\n",
       " current size = (24436, 1, 1, 1),\n",
       " 'QT_5025': <class 'netCDF4._netCDF4._Variable'>\n",
       " float32 QT_5025('time', 'depth', 'lat', 'lon')\n",
       "     name: QT\n",
       "     long_name: SEA SURFACE TEMP QUALITY\n",
       "     generic_name: qt\n",
       "     FORTRAN_format:  \n",
       "     units:  \n",
       "     epic_code: 5025\n",
       "     missing_value: 1e+35\n",
       "     _FillValue: 1e+35\n",
       " unlimited dimensions = ('time',)\n",
       " current size = (24436, 1, 1, 1)}"
      ]
     },
     "execution_count": 12,
     "metadata": {},
     "output_type": "execute_result"
    }
   ],
   "source": [
    "anomalies_ds.variables"
   ]
  },
  {
   "cell_type": "code",
   "execution_count": 13,
   "metadata": {},
   "outputs": [],
   "source": [
    "for t in sorted(times_set):\n",
    "    pass\n",
    "    #print(julian.from_jd(t, 'jd'), np.mean((T_25[times == t, 0, 0, 0])))"
   ]
  },
  {
   "cell_type": "code",
   "execution_count": 39,
   "metadata": {},
   "outputs": [],
   "source": [
    "all_times = np.array(sorted(times_set))\n",
    "dates = np.array([julian.from_jd(t, 'jd') for t in all_times])\n",
    "month_key = [(d.year, d.month) for d in dates]\n",
    "month_key_unique = sorted(set(month_key))"
   ]
  },
  {
   "cell_type": "code",
   "execution_count": 40,
   "metadata": {},
   "outputs": [
    {
     "name": "stderr",
     "output_type": "stream",
     "text": [
      "/home/solomon/anaconda3/envs/metis/lib/python3.8/site-packages/numpy/core/fromnumeric.py:3372: RuntimeWarning: Mean of empty slice.\n",
      "  return _methods._mean(a, axis=axis, dtype=dtype,\n",
      "/home/solomon/anaconda3/envs/metis/lib/python3.8/site-packages/numpy/core/_methods.py:170: RuntimeWarning: invalid value encountered in double_scalars\n",
      "  ret = ret.dtype.type(ret / rcount)\n"
     ]
    }
   ],
   "source": [
    "#Process:\n",
    "'''\n",
    "For each label in month_key_unique, get it and the previous two keys.\n",
    "'''\n",
    "running_averages = []\n",
    "for i in range(2, len(month_key_unique)):    \n",
    "    months = [month_key_unique[i-j] for j in range(3)]\n",
    "    mask = [m in months for m in month_key]\n",
    "    time_window = set(all_times[mask])\n",
    "    include = [t in time_window for t in times]\n",
    "    to_average = [T_25[i] for i in range(len(T_25)) if include[i] and T_25[i]<1e10]\n",
    "    running_averages.append(np.mean(to_average))\n",
    "running_averages = np.array(running_averages)"
   ]
  },
  {
   "cell_type": "code",
   "execution_count": 44,
   "metadata": {},
   "outputs": [
    {
     "data": {
      "text/plain": [
       "''"
      ]
     },
     "execution_count": 44,
     "metadata": {},
     "output_type": "execute_result"
    }
   ],
   "source": [
    "#list(zip(running_averages, month_key_unique[2:], running_averages>0.5, running_averages<-0.5))\n",
    "'''uwind, vwind, salinity via SSS, barometric pressure via SLP.'''"
   ]
  },
  {
   "cell_type": "code",
   "execution_count": 56,
   "metadata": {},
   "outputs": [
    {
     "data": {
      "text/plain": [
       "0"
      ]
     },
     "execution_count": 56,
     "metadata": {},
     "output_type": "execute_result"
    }
   ],
   "source": [
    "os.system(\"tar -xvf data/uwind/data.tar\")\n"
   ]
  },
  {
   "cell_type": "code",
   "execution_count": null,
   "metadata": {},
   "outputs": [],
   "source": []
  }
 ],
 "metadata": {
  "kernelspec": {
   "display_name": "Python [conda env:metis] *",
   "language": "python",
   "name": "conda-env-metis-py"
  },
  "language_info": {
   "codemirror_mode": {
    "name": "ipython",
    "version": 3
   },
   "file_extension": ".py",
   "mimetype": "text/x-python",
   "name": "python",
   "nbconvert_exporter": "python",
   "pygments_lexer": "ipython3",
   "version": "3.8.5"
  }
 },
 "nbformat": 4,
 "nbformat_minor": 4
}
